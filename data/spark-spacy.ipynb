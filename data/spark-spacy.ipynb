{
 "cells": [
  {
   "cell_type": "markdown",
   "metadata": {},
   "source": [
    "## Workshop Goals\n",
    "\n",
    "### - Get to know Apache Spark engine.\n",
    "\n",
    "### - Understand Spacy NLP library capabilities."
   ]
  },
  {
   "cell_type": "markdown",
   "metadata": {},
   "source": [
    "### Apache Spark is a fast and general engine for large-scale data processing\n",
    "![Spark Libs](img/spark-libs.png)\n",
    "\n",
    "### It can access diverse data sources including HDFS, Cassandra, Hive, HBase, S3 and JDBC/ODBC\n",
    "![Spark Compatabilities](img/spark-cmp.png)"
   ]
  },
  {
   "cell_type": "markdown",
   "metadata": {},
   "source": [
    "![Hadoop data sharing](img/data-sharing-mapreduce.png)\n",
    "![Spark data sharing](img/data-sharing-spark.png)"
   ]
  },
  {
   "cell_type": "code",
   "execution_count": 1,
   "metadata": {},
   "outputs": [],
   "source": [
    "from pyspark import SparkContext\n",
    "from pyspark.sql import SparkSession\n",
    "from pyspark.sql import functions as fun, types\n",
    "\n",
    "import spacy\n",
    "\n",
    "import pandas as pd\n",
    "pd.set_option('max_colwidth', 80)"
   ]
  },
  {
   "cell_type": "markdown",
   "metadata": {},
   "source": [
    "### Spark session init"
   ]
  },
  {
   "cell_type": "code",
   "execution_count": 2,
   "metadata": {},
   "outputs": [],
   "source": [
    "spark = SparkSession(SparkContext.getOrCreate()) \\\n",
    "    .builder \\\n",
    "    .appName('NLP') \\\n",
    "    .getOrCreate()"
   ]
  },
  {
   "cell_type": "markdown",
   "metadata": {},
   "source": [
    "### Load dataset"
   ]
  },
  {
   "cell_type": "markdown",
   "metadata": {},
   "source": [
    "News Category Dataset:\n",
    "https://www.kaggle.com/rmisra/news-category-dataset\n",
    "\n",
    "Each json record contains following attributes:\n",
    "\n",
    "* category: Category article belongs to\n",
    "\n",
    "* headline: Headline of the article\n",
    "\n",
    "* authors: Person authored the article\n",
    "\n",
    "* link: Link to the post\n",
    "\n",
    "* short_description: Short description of the article\n",
    "\n",
    "* date: Date the article was published"
   ]
  },
  {
   "cell_type": "code",
   "execution_count": 3,
   "metadata": {},
   "outputs": [
    {
     "name": "stdout",
     "output_type": "stream",
     "text": [
      "+--------------------+-------------+----------+--------------------+--------------------+--------------------+\n",
      "|             authors|     category|      date|            headline|                link|   short_description|\n",
      "+--------------------+-------------+----------+--------------------+--------------------+--------------------+\n",
      "|     Melissa Jeltsen|        CRIME|2018-05-26|There Were 2 Mass...|https://www.huffi...|She left her husb...|\n",
      "|       Andy McDonald|ENTERTAINMENT|2018-05-26|Will Smith Joins ...|https://www.huffi...|Of course it has ...|\n",
      "|          Ron Dicker|ENTERTAINMENT|2018-05-26|Hugh Grant Marrie...|https://www.huffi...|The actor and his...|\n",
      "|          Ron Dicker|ENTERTAINMENT|2018-05-26|Jim Carrey Blasts...|https://www.huffi...|The actor gives D...|\n",
      "|          Ron Dicker|ENTERTAINMENT|2018-05-26|Julianna Margulie...|https://www.huffi...|The \"Dietland\" ac...|\n",
      "|          Ron Dicker|ENTERTAINMENT|2018-05-26|Morgan Freeman 'D...|https://www.huffi...|\"It is not right ...|\n",
      "|          Ron Dicker|ENTERTAINMENT|2018-05-26|Donald Trump Is L...|https://www.huffi...|It's catchy, all ...|\n",
      "|     Todd Van Luling|ENTERTAINMENT|2018-05-26|What To Watch On ...|https://www.huffi...|There's a great m...|\n",
      "|       Andy McDonald|ENTERTAINMENT|2018-05-26|Mike Myers Reveal...|https://www.huffi...|Myer's kids may b...|\n",
      "|     Todd Van Luling|ENTERTAINMENT|2018-05-26|What To Watch On ...|https://www.huffi...|You're getting a ...|\n",
      "|   Sebastian Murdock|ENTERTAINMENT|2018-05-26|Justin Timberlake...|https://www.huffi...|The pop star also...|\n",
      "|                    |   WORLD NEWS|2018-05-26|South Korean Pres...|https://www.huffi...|The two met to pa...|\n",
      "|       Karen Pinchin|       IMPACT|2018-05-26|With Its Way Of L...|https://www.huffi...|The revolution is...|\n",
      "|Elise Foley and R...|     POLITICS|2018-05-26|Trump's Crackdown...|https://www.huffi...|Last month a Heal...|\n",
      "|Michael Isikoff, ...|     POLITICS|2018-05-26|'Trump's Son Shou...|https://www.huffi...|The wiretaps feat...|\n",
      "|      Mary Papenfuss|     POLITICS|2018-05-26|Edward Snowden: T...|https://www.huffi...|But don't count o...|\n",
      "|      Mary Papenfuss|     POLITICS|2018-05-26|Booyah: Obama Pho...|https://www.huffi...|Just a peeping mi...|\n",
      "|       Laura Bassett|     POLITICS|2018-05-26|Ireland Votes To ...|https://www.huffi...|Irish women will ...|\n",
      "|      Chris D'Angelo|     POLITICS|2018-05-26|Ryan Zinke Looks ...|https://www.huffi...|The interior secr...|\n",
      "|      Mary Papenfuss|     POLITICS|2018-05-26|Trump's Scottish ...|https://www.huffi...|And there are fou...|\n",
      "+--------------------+-------------+----------+--------------------+--------------------+--------------------+\n",
      "only showing top 20 rows\n",
      "\n"
     ]
    }
   ],
   "source": [
    "news_df = spark.read.json(\"News_Category_Dataset_v2.json\")\n",
    "news_df.show()"
   ]
  },
  {
   "cell_type": "markdown",
   "metadata": {},
   "source": [
    "### Examples"
   ]
  },
  {
   "cell_type": "code",
   "execution_count": 4,
   "metadata": {},
   "outputs": [],
   "source": [
    "news_df.createOrReplaceTempView(\"news\")"
   ]
  },
  {
   "cell_type": "code",
   "execution_count": 5,
   "metadata": {},
   "outputs": [
    {
     "name": "stdout",
     "output_type": "stream",
     "text": [
      "+------+\n",
      "| count|\n",
      "+------+\n",
      "|200853|\n",
      "+------+\n",
      "\n"
     ]
    }
   ],
   "source": [
    "spark.sql(\"SELECT COUNT(*) AS count FROM news\").show()"
   ]
  },
  {
   "cell_type": "code",
   "execution_count": 6,
   "metadata": {},
   "outputs": [
    {
     "data": {
      "text/plain": [
       "200853"
      ]
     },
     "execution_count": 6,
     "metadata": {},
     "output_type": "execute_result"
    }
   ],
   "source": [
    "news_df.count()"
   ]
  },
  {
   "cell_type": "code",
   "execution_count": 7,
   "metadata": {},
   "outputs": [
    {
     "name": "stdout",
     "output_type": "stream",
     "text": [
      "+--------------+-----+\n",
      "|      category|count|\n",
      "+--------------+-----+\n",
      "|      POLITICS|32739|\n",
      "|      WELLNESS|17827|\n",
      "| ENTERTAINMENT|16058|\n",
      "|        TRAVEL| 9887|\n",
      "|STYLE & BEAUTY| 9649|\n",
      "|     PARENTING| 8677|\n",
      "|HEALTHY LIVING| 6694|\n",
      "|  QUEER VOICES| 6314|\n",
      "|  FOOD & DRINK| 6226|\n",
      "|      BUSINESS| 5937|\n",
      "|        COMEDY| 5175|\n",
      "|        SPORTS| 4884|\n",
      "|  BLACK VOICES| 4528|\n",
      "| HOME & LIVING| 4195|\n",
      "|       PARENTS| 3955|\n",
      "| THE WORLDPOST| 3664|\n",
      "|      WEDDINGS| 3651|\n",
      "|         WOMEN| 3490|\n",
      "|        IMPACT| 3459|\n",
      "|       DIVORCE| 3426|\n",
      "+--------------+-----+\n",
      "only showing top 20 rows\n",
      "\n"
     ]
    }
   ],
   "source": [
    "spark.sql(\"SELECT category, count(category) AS count FROM news GROUP BY category ORDER BY count DESC\").show()"
   ]
  },
  {
   "cell_type": "code",
   "execution_count": 8,
   "metadata": {},
   "outputs": [
    {
     "name": "stdout",
     "output_type": "stream",
     "text": [
      "+--------------+-----+\n",
      "|      category|count|\n",
      "+--------------+-----+\n",
      "|      POLITICS|32739|\n",
      "|      WELLNESS|17827|\n",
      "| ENTERTAINMENT|16058|\n",
      "|        TRAVEL| 9887|\n",
      "|STYLE & BEAUTY| 9649|\n",
      "|     PARENTING| 8677|\n",
      "|HEALTHY LIVING| 6694|\n",
      "|  QUEER VOICES| 6314|\n",
      "|  FOOD & DRINK| 6226|\n",
      "|      BUSINESS| 5937|\n",
      "|        COMEDY| 5175|\n",
      "|        SPORTS| 4884|\n",
      "|  BLACK VOICES| 4528|\n",
      "| HOME & LIVING| 4195|\n",
      "|       PARENTS| 3955|\n",
      "| THE WORLDPOST| 3664|\n",
      "|      WEDDINGS| 3651|\n",
      "|         WOMEN| 3490|\n",
      "|        IMPACT| 3459|\n",
      "|       DIVORCE| 3426|\n",
      "+--------------+-----+\n",
      "only showing top 20 rows\n",
      "\n"
     ]
    }
   ],
   "source": [
    "news_df.groupby('category') \\\n",
    "    .count() \\\n",
    "    .orderBy(fun.desc('count')) \\\n",
    "    .show()"
   ]
  },
  {
   "cell_type": "markdown",
   "metadata": {},
   "source": [
    "### Task 1. Select the longest headline"
   ]
  },
  {
   "cell_type": "markdown",
   "metadata": {},
   "source": [
    "Hint: Use `length` function and `LIMIT` expression in SQL\n",
    "\n",
    "Available functions: http://spark.apache.org/docs/2.1.0/api/python/pyspark.sql.html#module-pyspark.sql.functions"
   ]
  },
  {
   "cell_type": "code",
   "execution_count": 9,
   "metadata": {},
   "outputs": [
    {
     "name": "stdout",
     "output_type": "stream",
     "text": [
      "+--------------------+------+\n",
      "|            headline|length|\n",
      "+--------------------+------+\n",
      "|Wendy Williams An...|   320|\n",
      "+--------------------+------+\n",
      "\n"
     ]
    }
   ],
   "source": [
    "spark.sql(\"SELECT headline, length(headline) AS length FROM news ORDER BY length DESC LIMIT 1\").show()"
   ]
  },
  {
   "cell_type": "markdown",
   "metadata": {},
   "source": [
    "## Spacy NLP library\n",
    "![Spacy Features](img/spacy-features.png)"
   ]
  },
  {
   "cell_type": "markdown",
   "metadata": {},
   "source": [
    "## Spacy pipeline\n",
    "![Spacy Features](img/spacy-pipeline.png)"
   ]
  },
  {
   "cell_type": "markdown",
   "metadata": {},
   "source": [
    "### Examples"
   ]
  },
  {
   "cell_type": "code",
   "execution_count": 10,
   "metadata": {},
   "outputs": [
    {
     "name": "stdout",
     "output_type": "stream",
     "text": [
      "In\n",
      "2018\n",
      "the\n",
      "Debian\n",
      "Linux\n",
      "project\n",
      "received\n",
      "a\n",
      "donation\n",
      "of\n",
      "$\n",
      "300,000\n"
     ]
    }
   ],
   "source": [
    "# import spacy \n",
    "\n",
    "nlp = spacy.load(\"en_core_web_sm\")\n",
    "doc = nlp(\"In 2018 the Debian Linux project received a donation of $300,000\")\n",
    "\n",
    "for token in doc:\n",
    "    print(token.text)"
   ]
  },
  {
   "cell_type": "code",
   "execution_count": 11,
   "metadata": {},
   "outputs": [
    {
     "name": "stdout",
     "output_type": "stream",
     "text": [
      "the Debian Linux project\n",
      "a donation\n"
     ]
    }
   ],
   "source": [
    "for token in doc.noun_chunks:\n",
    "    print(token.text)"
   ]
  },
  {
   "cell_type": "code",
   "execution_count": 12,
   "metadata": {},
   "outputs": [
    {
     "name": "stdout",
     "output_type": "stream",
     "text": [
      "2018\n",
      "300,000\n"
     ]
    }
   ],
   "source": [
    "for token in doc:\n",
    "    if token.like_num:\n",
    "        print(token.text)"
   ]
  },
  {
   "cell_type": "markdown",
   "metadata": {},
   "source": [
    "### Task 2. Extract named entities from the string"
   ]
  },
  {
   "cell_type": "markdown",
   "metadata": {},
   "source": [
    "Hint: Use `ents` attribute of the `Doc` and `label_` attribute of the `Token`\n",
    "\n",
    "Spacy Cheat Sheet: http://datacamp-community-prod.s3.amazonaws.com/29aa28bf-570a-4965-8f54-d6a541ae4e06"
   ]
  },
  {
   "cell_type": "code",
   "execution_count": 13,
   "metadata": {},
   "outputs": [
    {
     "name": "stdout",
     "output_type": "stream",
     "text": [
      "2018 DATE\n",
      "Debian NORP\n",
      "Linux ORG\n",
      "300,000 MONEY\n"
     ]
    }
   ],
   "source": [
    "for ent in doc.ents:\n",
    "    print(ent.text, ent.label_)"
   ]
  },
  {
   "cell_type": "markdown",
   "metadata": {},
   "source": [
    "## Let's combine a power of these two instruments"
   ]
  },
  {
   "cell_type": "markdown",
   "metadata": {},
   "source": [
    "### Task 3. Extract ORG, PERSON, GPE named entities in Spark"
   ]
  },
  {
   "cell_type": "markdown",
   "metadata": {},
   "source": [
    "```\n",
    "# Write a function that takes a news headline and generate the output like that\n",
    "\n",
    "[\n",
    "  {\n",
    "    'label': 'ORG', \n",
    "    'text': 'ACME Inc.'\n",
    "  },\n",
    "  {\n",
    "    'label': 'PERSON', \n",
    "    'text': 'John Doe'   \n",
    "  },\n",
    "  {\n",
    "    'label': GPE,\n",
    "    'text': 'London'\n",
    "  }\n",
    "  ...\n",
    "]\n",
    "```"
   ]
  },
  {
   "cell_type": "code",
   "execution_count": 14,
   "metadata": {},
   "outputs": [],
   "source": [
    "news_df_sample = news_df.sample(withReplacement=False, fraction=0.002, seed=777)\n",
    "news_df_sample.createOrReplaceTempView(\"news_sample\")"
   ]
  },
  {
   "cell_type": "code",
   "execution_count": 15,
   "metadata": {},
   "outputs": [],
   "source": [
    "class SpacyWrapper(object):\n",
    "    \"\"\"Wrapper class to load Spacy on worker nodes\"\"\"\n",
    "    _spacys = {}\n",
    "    disabled_pipeline_steps = ['parser', 'tagger']\n",
    "    default_model = 'en_core_web_sm'\n",
    "\n",
    "    @classmethod\n",
    "    def get(cls, model=default_model, disable=disabled_pipeline_steps):\n",
    "        if model not in cls._spacys:\n",
    "            import spacy\n",
    "            cls._spacys[model] = spacy.load(model, disable=disable)\n",
    "        return cls._spacys[model]"
   ]
  },
  {
   "cell_type": "markdown",
   "metadata": {},
   "source": [
    "### Neamed entity extraction function"
   ]
  },
  {
   "cell_type": "markdown",
   "metadata": {},
   "source": [
    "Hint: Reuse the code from `Task 2`."
   ]
  },
  {
   "cell_type": "code",
   "execution_count": 16,
   "metadata": {},
   "outputs": [],
   "source": [
    "def ner(doc):\n",
    "    labels=['ORG', 'PERSON', 'GPE']\n",
    "    entities = []\n",
    "    \n",
    "    # Load Spacy\n",
    "    nlp = SpacyWrapper.get()\n",
    "    doc = nlp(doc)\n",
    "    for ent in doc.ents:\n",
    "        if ent.label_ in labels:\n",
    "            entities.append({ 'label': ent.label_, 'text': ent.text })\n",
    "        \n",
    "    return entities"
   ]
  },
  {
   "cell_type": "code",
   "execution_count": 17,
   "metadata": {},
   "outputs": [
    {
     "data": {
      "text/plain": [
       "<function __main__.ner(doc)>"
      ]
     },
     "execution_count": 17,
     "metadata": {},
     "output_type": "execute_result"
    }
   ],
   "source": [
    "# Schema definition\n",
    "schema = types.ArrayType(\n",
    "    types.StructType([\n",
    "        types.StructField('label', types.StringType(), nullable=False),\n",
    "        types.StructField('text', types.StringType(), nullable=False)\n",
    "    ])\n",
    ")\n",
    "\n",
    "# Register user defined function (UDF) to use in SQL\n",
    "spark.udf.register('ner', ner, schema)"
   ]
  },
  {
   "cell_type": "markdown",
   "metadata": {},
   "source": [
    "### Apply UDF to extract headlines"
   ]
  },
  {
   "cell_type": "code",
   "execution_count": 18,
   "metadata": {},
   "outputs": [],
   "source": [
    "ent_sample = spark.sql(\"SELECT short_description, ner(short_description) AS entities FROM news_sample\")"
   ]
  },
  {
   "cell_type": "code",
   "execution_count": 19,
   "metadata": {},
   "outputs": [
    {
     "data": {
      "text/html": [
       "<div>\n",
       "<style scoped>\n",
       "    .dataframe tbody tr th:only-of-type {\n",
       "        vertical-align: middle;\n",
       "    }\n",
       "\n",
       "    .dataframe tbody tr th {\n",
       "        vertical-align: top;\n",
       "    }\n",
       "\n",
       "    .dataframe thead th {\n",
       "        text-align: right;\n",
       "    }\n",
       "</style>\n",
       "<table border=\"1\" class=\"dataframe\">\n",
       "  <thead>\n",
       "    <tr style=\"text-align: right;\">\n",
       "      <th></th>\n",
       "      <th>short_description</th>\n",
       "      <th>entities</th>\n",
       "    </tr>\n",
       "  </thead>\n",
       "  <tbody>\n",
       "    <tr>\n",
       "      <th>0</th>\n",
       "      <td>The outside groups can spend big to alter election outcomes, but don't have ...</td>\n",
       "      <td>[]</td>\n",
       "    </tr>\n",
       "    <tr>\n",
       "      <th>1</th>\n",
       "      <td>The Islamic State claimed responsibility.</td>\n",
       "      <td>[]</td>\n",
       "    </tr>\n",
       "    <tr>\n",
       "      <th>2</th>\n",
       "      <td>The letter to Congress contradicts the White House's account of the spousal ...</td>\n",
       "      <td>[(ORG, Congress), (ORG, the White House's)]</td>\n",
       "    </tr>\n",
       "    <tr>\n",
       "      <th>3</th>\n",
       "      <td>Like self-deportation, but for basic nutritional needs!</td>\n",
       "      <td>[]</td>\n",
       "    </tr>\n",
       "    <tr>\n",
       "      <th>4</th>\n",
       "      <td>Donations skyrocketed as the gun group issued frothy warnings of the \"freedo...</td>\n",
       "      <td>[]</td>\n",
       "    </tr>\n",
       "    <tr>\n",
       "      <th>5</th>\n",
       "      <td>She plays \"one of the universe’s most powerful heroes.\"</td>\n",
       "      <td>[]</td>\n",
       "    </tr>\n",
       "    <tr>\n",
       "      <th>6</th>\n",
       "      <td>The guy makes it too easy sometimes.</td>\n",
       "      <td>[]</td>\n",
       "    </tr>\n",
       "    <tr>\n",
       "      <th>7</th>\n",
       "      <td>Republican lawmakers have insisted that Trump let the special counsel to do ...</td>\n",
       "      <td>[]</td>\n",
       "    </tr>\n",
       "    <tr>\n",
       "      <th>8</th>\n",
       "      <td>How to use bitcoins, Sam Nunberg jokes and more.</td>\n",
       "      <td>[(PERSON, Sam Nunberg)]</td>\n",
       "    </tr>\n",
       "    <tr>\n",
       "      <th>9</th>\n",
       "      <td>Such a funny thing for us to try to explain at the Winter Olympics.</td>\n",
       "      <td>[]</td>\n",
       "    </tr>\n",
       "    <tr>\n",
       "      <th>10</th>\n",
       "      <td>It doesn’t have to be this way. We can choose otherwise.</td>\n",
       "      <td>[]</td>\n",
       "    </tr>\n",
       "    <tr>\n",
       "      <th>11</th>\n",
       "      <td>Whole lotta nope.</td>\n",
       "      <td>[]</td>\n",
       "    </tr>\n",
       "    <tr>\n",
       "      <th>12</th>\n",
       "      <td>Despite the distraction, the memo shows no \"deep state\" plot to elect Hillar...</td>\n",
       "      <td>[(PERSON, Hillary Clinton)]</td>\n",
       "    </tr>\n",
       "    <tr>\n",
       "      <th>13</th>\n",
       "      <td>Mic is letting users reimagine and replace Confederate statues.</td>\n",
       "      <td>[(ORG, Mic)]</td>\n",
       "    </tr>\n",
       "    <tr>\n",
       "      <th>14</th>\n",
       "      <td>#TGIT just got a whole lot better.</td>\n",
       "      <td>[]</td>\n",
       "    </tr>\n",
       "    <tr>\n",
       "      <th>15</th>\n",
       "      <td>She had a few more casting choices for Sam Jones, too.</td>\n",
       "      <td>[(PERSON, Sam Jones)]</td>\n",
       "    </tr>\n",
       "    <tr>\n",
       "      <th>16</th>\n",
       "      <td>Costume designer Mark Bridges walks us through key dresses from Paul Thomas ...</td>\n",
       "      <td>[(PERSON, Mark Bridges), (PERSON, Paul Thomas Anderson's)]</td>\n",
       "    </tr>\n",
       "    <tr>\n",
       "      <th>17</th>\n",
       "      <td>They say corporations must make more long-term investments in their workers.</td>\n",
       "      <td>[]</td>\n",
       "    </tr>\n",
       "    <tr>\n",
       "      <th>18</th>\n",
       "      <td>The “Parks and Recreation” star explains what critics are getting wrong.</td>\n",
       "      <td>[(PERSON, Parks)]</td>\n",
       "    </tr>\n",
       "    <tr>\n",
       "      <th>19</th>\n",
       "      <td>“We can start 2018 hopeful that elephants will be safer,\" said one environme...</td>\n",
       "      <td>[]</td>\n",
       "    </tr>\n",
       "    <tr>\n",
       "      <th>20</th>\n",
       "      <td>President Pedro Pablo Kuczysnki pardoned the former leader after Fujimori's ...</td>\n",
       "      <td>[(PERSON, Pedro Pablo Kuczysnki), (PERSON, Fujimori), (ORG, Congress)]</td>\n",
       "    </tr>\n",
       "    <tr>\n",
       "      <th>21</th>\n",
       "      <td>Yeah, it's as adorable as it sounds.</td>\n",
       "      <td>[]</td>\n",
       "    </tr>\n",
       "    <tr>\n",
       "      <th>22</th>\n",
       "      <td>The two sloth bears are traumatized, but rescuers are hopeful about their fu...</td>\n",
       "      <td>[]</td>\n",
       "    </tr>\n",
       "    <tr>\n",
       "      <th>23</th>\n",
       "      <td>\"Hopefully all will heal well.\"</td>\n",
       "      <td>[]</td>\n",
       "    </tr>\n",
       "    <tr>\n",
       "      <th>24</th>\n",
       "      <td>Set your faces to stun.</td>\n",
       "      <td>[]</td>\n",
       "    </tr>\n",
       "    <tr>\n",
       "      <th>25</th>\n",
       "      <td>20.7 million people need some kind of aid in Yemen. Those dollars could feed...</td>\n",
       "      <td>[(GPE, Yemen)]</td>\n",
       "    </tr>\n",
       "    <tr>\n",
       "      <th>26</th>\n",
       "      <td>A pro-Jones super PAC is highlighting Roy Moore's ties to white supremacists.</td>\n",
       "      <td>[(PERSON, Roy Moore's)]</td>\n",
       "    </tr>\n",
       "    <tr>\n",
       "      <th>27</th>\n",
       "      <td>Conservative legislators are passing a tax bill that will worsen economic di...</td>\n",
       "      <td>[]</td>\n",
       "    </tr>\n",
       "    <tr>\n",
       "      <th>28</th>\n",
       "      <td>\"They plan to increase the right of people to say, 'I am religiously opposed...</td>\n",
       "      <td>[]</td>\n",
       "    </tr>\n",
       "    <tr>\n",
       "      <th>29</th>\n",
       "      <td>Liu Yifei will star as Hua Mulan.</td>\n",
       "      <td>[(PERSON, Liu Yifei), (PERSON, Hua Mulan)]</td>\n",
       "    </tr>\n",
       "    <tr>\n",
       "      <th>...</th>\n",
       "      <td>...</td>\n",
       "      <td>...</td>\n",
       "    </tr>\n",
       "    <tr>\n",
       "      <th>385</th>\n",
       "      <td>The focus in hospice is not on cure but on relieving symptoms such as pain, ...</td>\n",
       "      <td>[(PERSON, Flowers)]</td>\n",
       "    </tr>\n",
       "    <tr>\n",
       "      <th>386</th>\n",
       "      <td>Gruenberg said the FDIC would investigate banks that make payday loans and e...</td>\n",
       "      <td>[(ORG, Gruenberg), (ORG, FDIC)]</td>\n",
       "    </tr>\n",
       "    <tr>\n",
       "      <th>387</th>\n",
       "      <td>What is the least flattering type of swimsuit? I know the bikini is so popul...</td>\n",
       "      <td>[]</td>\n",
       "    </tr>\n",
       "    <tr>\n",
       "      <th>388</th>\n",
       "      <td>For more videos, check out the rest of the You Tried It series here. This we...</td>\n",
       "      <td>[(PERSON, Amy Dixon)]</td>\n",
       "    </tr>\n",
       "    <tr>\n",
       "      <th>389</th>\n",
       "      <td>There's no better story than an encounter with a charging bull elephant. Tha...</td>\n",
       "      <td>[]</td>\n",
       "    </tr>\n",
       "    <tr>\n",
       "      <th>390</th>\n",
       "      <td>When we are mindfully present in the moment, energy seems to flow with a gre...</td>\n",
       "      <td>[]</td>\n",
       "    </tr>\n",
       "    <tr>\n",
       "      <th>391</th>\n",
       "      <td>Many of us mothers with children under the age of 70 living at home are havi...</td>\n",
       "      <td>[(ORG, Lipitor)]</td>\n",
       "    </tr>\n",
       "    <tr>\n",
       "      <th>392</th>\n",
       "      <td>PHOTOS: Mount Moriah: South Dakota Department of Tourism; Glenwood: Greater ...</td>\n",
       "      <td>[(ORG, South Dakota Department), (GPE, Glenwood), (PERSON, Bellefontaine)]</td>\n",
       "    </tr>\n",
       "    <tr>\n",
       "      <th>393</th>\n",
       "      <td>My kids love Italian wedding soup. Not just because they are half-italian, b...</td>\n",
       "      <td>[]</td>\n",
       "    </tr>\n",
       "    <tr>\n",
       "      <th>394</th>\n",
       "      <td>I've booked my ceremony and reception location, hired a DJ and finalized the...</td>\n",
       "      <td>[(ORG, DJ)]</td>\n",
       "    </tr>\n",
       "    <tr>\n",
       "      <th>395</th>\n",
       "      <td>While not the most comforting aspect of the exhibition, Andres Serrano's mor...</td>\n",
       "      <td>[(PERSON, Andres Serrano's)]</td>\n",
       "    </tr>\n",
       "    <tr>\n",
       "      <th>396</th>\n",
       "      <td>Ms. Bauer, who has been a longtime champion of successful dieters, points ou...</td>\n",
       "      <td>[(PERSON, Bauer)]</td>\n",
       "    </tr>\n",
       "    <tr>\n",
       "      <th>397</th>\n",
       "      <td>\"A Look Back\" is a daily column that highlights a moment from fashion's fabu...</td>\n",
       "      <td>[(PERSON, Joan Crawford)]</td>\n",
       "    </tr>\n",
       "    <tr>\n",
       "      <th>398</th>\n",
       "      <td>Travel tips and insider advice from the well-traveled editor-in-chief of the...</td>\n",
       "      <td>[(ORG, the Huffington Post Media Group)]</td>\n",
       "    </tr>\n",
       "    <tr>\n",
       "      <th>399</th>\n",
       "      <td>Gisele Bundchen has a new sexy pursuit: she's showing off her very own linge...</td>\n",
       "      <td>[(PERSON, Gisele Bundchen), (ORG, NFL)]</td>\n",
       "    </tr>\n",
       "    <tr>\n",
       "      <th>400</th>\n",
       "      <td>Meet Valeria Lukyanova, a 21-year-old Ukrainian model who has made herself u...</td>\n",
       "      <td>[(PERSON, Meet Valeria Lukyanova), (PERSON, Barbie), (GPE, Jezebel)]</td>\n",
       "    </tr>\n",
       "    <tr>\n",
       "      <th>401</th>\n",
       "      <td>The true nature of stress is that it starts within each of us. And since it ...</td>\n",
       "      <td>[]</td>\n",
       "    </tr>\n",
       "    <tr>\n",
       "      <th>402</th>\n",
       "      <td>Want more? Be sure to check out Stylelist on Twitter, Facebook and Pinterest...</td>\n",
       "      <td>[(ORG, Facebook), (PERSON, Frank &amp; Eileen Shirt), (PERSON, Charno)]</td>\n",
       "    </tr>\n",
       "    <tr>\n",
       "      <th>403</th>\n",
       "      <td>Late tax filers will be charged 0.5 percent of unpaid taxes per month, plus ...</td>\n",
       "      <td>[]</td>\n",
       "    </tr>\n",
       "    <tr>\n",
       "      <th>404</th>\n",
       "      <td>While aficionados of the series know that Katniss can carry a tune, Josh Hut...</td>\n",
       "      <td>[(PERSON, Josh Hutcherson)]</td>\n",
       "    </tr>\n",
       "    <tr>\n",
       "      <th>405</th>\n",
       "      <td>Invisible Children co-founder Jason Russell, the creator of the viral \"Kony ...</td>\n",
       "      <td>[(ORG, Invisible Children co), (PERSON, Jason Russell), (PERSON, Kony)]</td>\n",
       "    </tr>\n",
       "    <tr>\n",
       "      <th>406</th>\n",
       "      <td>On what's next for ALFA: In two months we'll launch the ALFA Initiative. We'...</td>\n",
       "      <td>[]</td>\n",
       "    </tr>\n",
       "    <tr>\n",
       "      <th>407</th>\n",
       "      <td>Americans are overfed and undernourished. That's right, the most obese child...</td>\n",
       "      <td>[]</td>\n",
       "    </tr>\n",
       "    <tr>\n",
       "      <th>408</th>\n",
       "      <td>Whether you work from home on occasion, once a week or full-time, doing so s...</td>\n",
       "      <td>[]</td>\n",
       "    </tr>\n",
       "    <tr>\n",
       "      <th>409</th>\n",
       "      <td>Today, Hollywood is alive again in the cities and valleys of Western PA and ...</td>\n",
       "      <td>[(GPE, Hollywood), (ORG, Western PA)]</td>\n",
       "    </tr>\n",
       "    <tr>\n",
       "      <th>410</th>\n",
       "      <td>No media room is complete without great lighting. With track lighting that y...</td>\n",
       "      <td>[]</td>\n",
       "    </tr>\n",
       "    <tr>\n",
       "      <th>411</th>\n",
       "      <td>The magnificence of the mountainous backdrop and the modern architecture thr...</td>\n",
       "      <td>[]</td>\n",
       "    </tr>\n",
       "    <tr>\n",
       "      <th>412</th>\n",
       "      <td>As we develop greater strength of character, we're able to face the unknown ...</td>\n",
       "      <td>[]</td>\n",
       "    </tr>\n",
       "    <tr>\n",
       "      <th>413</th>\n",
       "      <td>If you are interested in food and are going to be in London between March 11...</td>\n",
       "      <td>[(GPE, London)]</td>\n",
       "    </tr>\n",
       "    <tr>\n",
       "      <th>414</th>\n",
       "      <td>With Grammys on Sunday night, gifting suites were abound in Hollywood and ce...</td>\n",
       "      <td>[(ORG, Grammys), (GPE, Hollywood)]</td>\n",
       "    </tr>\n",
       "  </tbody>\n",
       "</table>\n",
       "<p>415 rows × 2 columns</p>\n",
       "</div>"
      ],
      "text/plain": [
       "                                                                   short_description  \\\n",
       "0    The outside groups can spend big to alter election outcomes, but don't have ...   \n",
       "1                                          The Islamic State claimed responsibility.   \n",
       "2    The letter to Congress contradicts the White House's account of the spousal ...   \n",
       "3                            Like self-deportation, but for basic nutritional needs!   \n",
       "4    Donations skyrocketed as the gun group issued frothy warnings of the \"freedo...   \n",
       "5                            She plays \"one of the universe’s most powerful heroes.\"   \n",
       "6                                               The guy makes it too easy sometimes.   \n",
       "7    Republican lawmakers have insisted that Trump let the special counsel to do ...   \n",
       "8                                   How to use bitcoins, Sam Nunberg jokes and more.   \n",
       "9                Such a funny thing for us to try to explain at the Winter Olympics.   \n",
       "10                          It doesn’t have to be this way. We can choose otherwise.   \n",
       "11                                                                 Whole lotta nope.   \n",
       "12   Despite the distraction, the memo shows no \"deep state\" plot to elect Hillar...   \n",
       "13                   Mic is letting users reimagine and replace Confederate statues.   \n",
       "14                                                #TGIT just got a whole lot better.   \n",
       "15                            She had a few more casting choices for Sam Jones, too.   \n",
       "16   Costume designer Mark Bridges walks us through key dresses from Paul Thomas ...   \n",
       "17      They say corporations must make more long-term investments in their workers.   \n",
       "18          The “Parks and Recreation” star explains what critics are getting wrong.   \n",
       "19   “We can start 2018 hopeful that elephants will be safer,\" said one environme...   \n",
       "20   President Pedro Pablo Kuczysnki pardoned the former leader after Fujimori's ...   \n",
       "21                                              Yeah, it's as adorable as it sounds.   \n",
       "22   The two sloth bears are traumatized, but rescuers are hopeful about their fu...   \n",
       "23                                                   \"Hopefully all will heal well.\"   \n",
       "24                                                           Set your faces to stun.   \n",
       "25   20.7 million people need some kind of aid in Yemen. Those dollars could feed...   \n",
       "26     A pro-Jones super PAC is highlighting Roy Moore's ties to white supremacists.   \n",
       "27   Conservative legislators are passing a tax bill that will worsen economic di...   \n",
       "28   \"They plan to increase the right of people to say, 'I am religiously opposed...   \n",
       "29                                                 Liu Yifei will star as Hua Mulan.   \n",
       "..                                                                               ...   \n",
       "385  The focus in hospice is not on cure but on relieving symptoms such as pain, ...   \n",
       "386  Gruenberg said the FDIC would investigate banks that make payday loans and e...   \n",
       "387  What is the least flattering type of swimsuit? I know the bikini is so popul...   \n",
       "388  For more videos, check out the rest of the You Tried It series here. This we...   \n",
       "389  There's no better story than an encounter with a charging bull elephant. Tha...   \n",
       "390  When we are mindfully present in the moment, energy seems to flow with a gre...   \n",
       "391  Many of us mothers with children under the age of 70 living at home are havi...   \n",
       "392  PHOTOS: Mount Moriah: South Dakota Department of Tourism; Glenwood: Greater ...   \n",
       "393  My kids love Italian wedding soup. Not just because they are half-italian, b...   \n",
       "394  I've booked my ceremony and reception location, hired a DJ and finalized the...   \n",
       "395  While not the most comforting aspect of the exhibition, Andres Serrano's mor...   \n",
       "396  Ms. Bauer, who has been a longtime champion of successful dieters, points ou...   \n",
       "397  \"A Look Back\" is a daily column that highlights a moment from fashion's fabu...   \n",
       "398  Travel tips and insider advice from the well-traveled editor-in-chief of the...   \n",
       "399  Gisele Bundchen has a new sexy pursuit: she's showing off her very own linge...   \n",
       "400  Meet Valeria Lukyanova, a 21-year-old Ukrainian model who has made herself u...   \n",
       "401  The true nature of stress is that it starts within each of us. And since it ...   \n",
       "402  Want more? Be sure to check out Stylelist on Twitter, Facebook and Pinterest...   \n",
       "403  Late tax filers will be charged 0.5 percent of unpaid taxes per month, plus ...   \n",
       "404  While aficionados of the series know that Katniss can carry a tune, Josh Hut...   \n",
       "405  Invisible Children co-founder Jason Russell, the creator of the viral \"Kony ...   \n",
       "406  On what's next for ALFA: In two months we'll launch the ALFA Initiative. We'...   \n",
       "407  Americans are overfed and undernourished. That's right, the most obese child...   \n",
       "408  Whether you work from home on occasion, once a week or full-time, doing so s...   \n",
       "409  Today, Hollywood is alive again in the cities and valleys of Western PA and ...   \n",
       "410  No media room is complete without great lighting. With track lighting that y...   \n",
       "411  The magnificence of the mountainous backdrop and the modern architecture thr...   \n",
       "412  As we develop greater strength of character, we're able to face the unknown ...   \n",
       "413  If you are interested in food and are going to be in London between March 11...   \n",
       "414  With Grammys on Sunday night, gifting suites were abound in Hollywood and ce...   \n",
       "\n",
       "                                                                       entities  \n",
       "0                                                                            []  \n",
       "1                                                                            []  \n",
       "2                                   [(ORG, Congress), (ORG, the White House's)]  \n",
       "3                                                                            []  \n",
       "4                                                                            []  \n",
       "5                                                                            []  \n",
       "6                                                                            []  \n",
       "7                                                                            []  \n",
       "8                                                       [(PERSON, Sam Nunberg)]  \n",
       "9                                                                            []  \n",
       "10                                                                           []  \n",
       "11                                                                           []  \n",
       "12                                                  [(PERSON, Hillary Clinton)]  \n",
       "13                                                                 [(ORG, Mic)]  \n",
       "14                                                                           []  \n",
       "15                                                        [(PERSON, Sam Jones)]  \n",
       "16                   [(PERSON, Mark Bridges), (PERSON, Paul Thomas Anderson's)]  \n",
       "17                                                                           []  \n",
       "18                                                            [(PERSON, Parks)]  \n",
       "19                                                                           []  \n",
       "20       [(PERSON, Pedro Pablo Kuczysnki), (PERSON, Fujimori), (ORG, Congress)]  \n",
       "21                                                                           []  \n",
       "22                                                                           []  \n",
       "23                                                                           []  \n",
       "24                                                                           []  \n",
       "25                                                               [(GPE, Yemen)]  \n",
       "26                                                      [(PERSON, Roy Moore's)]  \n",
       "27                                                                           []  \n",
       "28                                                                           []  \n",
       "29                                   [(PERSON, Liu Yifei), (PERSON, Hua Mulan)]  \n",
       "..                                                                          ...  \n",
       "385                                                         [(PERSON, Flowers)]  \n",
       "386                                             [(ORG, Gruenberg), (ORG, FDIC)]  \n",
       "387                                                                          []  \n",
       "388                                                       [(PERSON, Amy Dixon)]  \n",
       "389                                                                          []  \n",
       "390                                                                          []  \n",
       "391                                                            [(ORG, Lipitor)]  \n",
       "392  [(ORG, South Dakota Department), (GPE, Glenwood), (PERSON, Bellefontaine)]  \n",
       "393                                                                          []  \n",
       "394                                                                 [(ORG, DJ)]  \n",
       "395                                                [(PERSON, Andres Serrano's)]  \n",
       "396                                                           [(PERSON, Bauer)]  \n",
       "397                                                   [(PERSON, Joan Crawford)]  \n",
       "398                                    [(ORG, the Huffington Post Media Group)]  \n",
       "399                                     [(PERSON, Gisele Bundchen), (ORG, NFL)]  \n",
       "400        [(PERSON, Meet Valeria Lukyanova), (PERSON, Barbie), (GPE, Jezebel)]  \n",
       "401                                                                          []  \n",
       "402         [(ORG, Facebook), (PERSON, Frank & Eileen Shirt), (PERSON, Charno)]  \n",
       "403                                                                          []  \n",
       "404                                                 [(PERSON, Josh Hutcherson)]  \n",
       "405     [(ORG, Invisible Children co), (PERSON, Jason Russell), (PERSON, Kony)]  \n",
       "406                                                                          []  \n",
       "407                                                                          []  \n",
       "408                                                                          []  \n",
       "409                                       [(GPE, Hollywood), (ORG, Western PA)]  \n",
       "410                                                                          []  \n",
       "411                                                                          []  \n",
       "412                                                                          []  \n",
       "413                                                             [(GPE, London)]  \n",
       "414                                          [(ORG, Grammys), (GPE, Hollywood)]  \n",
       "\n",
       "[415 rows x 2 columns]"
      ]
     },
     "execution_count": 19,
     "metadata": {},
     "output_type": "execute_result"
    }
   ],
   "source": [
    "ent_sample.toPandas()"
   ]
  },
  {
   "cell_type": "markdown",
   "metadata": {},
   "source": [
    "## Save output to JSON"
   ]
  },
  {
   "cell_type": "code",
   "execution_count": 23,
   "metadata": {},
   "outputs": [],
   "source": [
    "spark.sql(\"SELECT short_description, ner(short_description) AS entities FROM news_sample\") \\\n",
    "    .repartition(1) \\\n",
    "    .write \\\n",
    "    .mode(\"overwrite\") \\\n",
    "    .json(\"output\")"
   ]
  },
  {
   "cell_type": "markdown",
   "metadata": {},
   "source": [
    "## Text Classifier"
   ]
  },
  {
   "cell_type": "code",
   "execution_count": 24,
   "metadata": {},
   "outputs": [],
   "source": [
    "nlp = spacy.blank(\"en\")"
   ]
  },
  {
   "cell_type": "code",
   "execution_count": 25,
   "metadata": {},
   "outputs": [],
   "source": [
    "if \"textcat\" not in nlp.pipe_names:\n",
    "    textcat = nlp.create_pipe(\n",
    "        \"textcat\",\n",
    "        config={\n",
    "            \"exclusive_classes\": True,\n",
    "            \"architecture\": \"simple_cnn\",\n",
    "        }\n",
    "    )\n",
    "    nlp.add_pipe(textcat, last=True)\n",
    "else:\n",
    "    textcat = nlp.get_pipe(\"textcat\")"
   ]
  },
  {
   "cell_type": "code",
   "execution_count": 26,
   "metadata": {},
   "outputs": [
    {
     "name": "stdout",
     "output_type": "stream",
     "text": [
      "['SPORTS', 'MEDIA', 'BLACK VOICES', 'POLITICS', 'ARTS', 'THE WORLDPOST', 'QUEER VOICES', 'CULTURE & ARTS', 'PARENTING', 'GREEN', 'ENTERTAINMENT', 'ENVIRONMENT', 'TECH', 'BUSINESS', 'LATINO VOICES', 'COMEDY', 'STYLE & BEAUTY', 'MONEY', 'IMPACT', 'RELIGION', 'TRAVEL', 'EDUCATION', 'HEALTHY LIVING', 'CRIME', 'WEDDINGS', 'TASTE', 'HOME & LIVING', 'FIFTY', 'WEIRD NEWS', 'WORLDPOST', 'GOOD NEWS', 'DIVORCE', 'FOOD & DRINK', 'WOMEN', 'COLLEGE', 'ARTS & CULTURE', 'STYLE', 'PARENTS', 'WORLD NEWS', 'SCIENCE', 'WELLNESS']\n"
     ]
    }
   ],
   "source": [
    "if len(textcat.labels) == 0:\n",
    "    categories = spark.sql(\"SELECT category AS name FROM news GROUP BY category\")\n",
    "    for category in categories.collect():\n",
    "        textcat.add_label(category['name'])\n",
    "print(textcat.labels)"
   ]
  },
  {
   "cell_type": "code",
   "execution_count": 27,
   "metadata": {},
   "outputs": [],
   "source": [
    "from sklearn.model_selection import train_test_split\n",
    "df = spark.sql(\"SELECT short_description, category FROM news\") \\\n",
    "          .sample(withReplacement=False, fraction=0.001, seed=777) \\\n",
    "          .toPandas()\n",
    "texts = df['short_description']\n",
    "labels = df['category']"
   ]
  },
  {
   "cell_type": "code",
   "execution_count": 28,
   "metadata": {},
   "outputs": [
    {
     "name": "stdout",
     "output_type": "stream",
     "text": [
      "{'SPORTS': False, 'MEDIA': False, 'BLACK VOICES': False, 'POLITICS': False, 'ARTS': False, 'THE WORLDPOST': False, 'QUEER VOICES': False, 'CULTURE & ARTS': False, 'PARENTING': False, 'GREEN': False, 'ENTERTAINMENT': False, 'ENVIRONMENT': False, 'TECH': False, 'BUSINESS': False, 'LATINO VOICES': False, 'COMEDY': False, 'STYLE & BEAUTY': False, 'MONEY': False, 'IMPACT': False, 'RELIGION': False, 'TRAVEL': False, 'EDUCATION': False, 'HEALTHY LIVING': False, 'CRIME': False, 'WEDDINGS': False, 'TASTE': False, 'HOME & LIVING': False, 'FIFTY': False, 'WEIRD NEWS': False, 'WORLDPOST': False, 'GOOD NEWS': False, 'DIVORCE': False, 'FOOD & DRINK': False, 'WOMEN': False, 'COLLEGE': False, 'ARTS & CULTURE': False, 'STYLE': False, 'PARENTS': False, 'WORLD NEWS': True, 'SCIENCE': False, 'WELLNESS': False}\n"
     ]
    }
   ],
   "source": [
    "cats = []\n",
    "for y in labels:\n",
    "    item = {}\n",
    "    for l in textcat.labels:\n",
    "        item[l] = bool(l == y)\n",
    "    cats.append(item)\n",
    "print(cats[0])"
   ]
  },
  {
   "cell_type": "code",
   "execution_count": 29,
   "metadata": {},
   "outputs": [],
   "source": [
    "train_texts = texts\n",
    "train_cats = cats\n",
    "train_data = list(zip(train_texts, [{\"cats\": cats} for cats in train_cats]))"
   ]
  },
  {
   "cell_type": "code",
   "execution_count": 31,
   "metadata": {},
   "outputs": [
    {
     "name": "stdout",
     "output_type": "stream",
     "text": [
      "Training the model...\n",
      "Iteration: 1/10\n",
      "Iteration: 2/10\n",
      "Iteration: 3/10\n",
      "Iteration: 4/10\n",
      "Iteration: 5/10\n",
      "Iteration: 6/10\n",
      "Iteration: 7/10\n",
      "Iteration: 8/10\n",
      "Iteration: 9/10\n",
      "Iteration: 10/10\n"
     ]
    }
   ],
   "source": [
    "import random\n",
    "from spacy.util import minibatch, compounding\n",
    "\n",
    "n_iter = 10\n",
    "other_pipes = [pipe for pipe in nlp.pipe_names if pipe != \"textcat\"]\n",
    "with nlp.disable_pipes(*other_pipes):  # only train textcat\n",
    "    optimizer = nlp.begin_training()\n",
    "    print(\"Training the model...\")\n",
    "    batch_sizes = compounding(4.0, 32.0, 1.001)\n",
    "    for i in range(n_iter):\n",
    "        print(f\"Iteration: {i + 1}/{n_iter}\")\n",
    "        losses = {}\n",
    "        random.shuffle(train_data)\n",
    "        batches = minibatch(train_data, size=batch_sizes)\n",
    "        for batch in batches:\n",
    "            texts, annotations = zip(*batch)\n",
    "            nlp.update(texts, annotations, sgd=optimizer, drop=0.2, losses=losses)"
   ]
  },
  {
   "cell_type": "code",
   "execution_count": 49,
   "metadata": {},
   "outputs": [
    {
     "name": "stdout",
     "output_type": "stream",
     "text": [
      "POLITICS\n"
     ]
    }
   ],
   "source": [
    "test_text = \"Killed his wife\"\n",
    "doc = nlp(test_text)\n",
    "max_value = 0\n",
    "top_category = None\n",
    "for key, value in doc.cats.items():\n",
    "    if value > max_value:\n",
    "        max_value = value\n",
    "        top_category = key\n",
    "print(top_category)"
   ]
  },
  {
   "cell_type": "markdown",
   "metadata": {},
   "source": [
    "## ¯\\\\_(ツ)_/¯ Need to use bigger subset but it takes to long"
   ]
  }
 ],
 "metadata": {
  "kernelspec": {
   "display_name": "Python 3",
   "language": "python",
   "name": "python3"
  },
  "language_info": {
   "codemirror_mode": {
    "name": "ipython",
    "version": 3
   },
   "file_extension": ".py",
   "mimetype": "text/x-python",
   "name": "python",
   "nbconvert_exporter": "python",
   "pygments_lexer": "ipython3",
   "version": "3.7.3"
  }
 },
 "nbformat": 4,
 "nbformat_minor": 2
}
