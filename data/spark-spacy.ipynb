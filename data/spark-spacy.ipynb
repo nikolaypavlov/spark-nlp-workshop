{
 "cells": [
  {
   "cell_type": "markdown",
   "metadata": {},
   "source": [
    "## Workshop Goals\n",
    "\n",
    "### - Get to know Apache Spark engine.\n",
    "\n",
    "### - Understand Spacy NLP library capabilities."
   ]
  },
  {
   "cell_type": "markdown",
   "metadata": {},
   "source": [
    "### Apache Spark is a fast and general engine for large-scale data processing\n",
    "![Spark Libs](img/spark-libs.png)\n",
    "\n",
    "### It can access diverse data sources including HDFS, Cassandra, Hive, HBase, S3 and JDBC/ODBC\n",
    "![Spark Compatabilities](img/spark-cmp.png)"
   ]
  },
  {
   "cell_type": "markdown",
   "metadata": {},
   "source": [
    "![Hadoop data sharing](img/data-sharing-mapreduce.png)\n",
    "![Spark data sharing](img/data-sharing-spark.png)"
   ]
  },
  {
   "cell_type": "code",
   "execution_count": 1,
   "metadata": {},
   "outputs": [],
   "source": [
    "from pyspark import SparkContext\n",
    "from pyspark.sql import SparkSession\n",
    "from pyspark.sql import functions as fun, types\n",
    "\n",
    "import spacy\n",
    "\n",
    "import pandas as pd\n",
    "pd.set_option('max_colwidth', 80)"
   ]
  },
  {
   "cell_type": "markdown",
   "metadata": {},
   "source": [
    "### Spark session init"
   ]
  },
  {
   "cell_type": "code",
   "execution_count": 2,
   "metadata": {},
   "outputs": [],
   "source": [
    "spark = SparkSession(SparkContext.getOrCreate()) \\\n",
    "    .builder \\\n",
    "    .appName('NLP') \\\n",
    "    .getOrCreate()"
   ]
  },
  {
   "cell_type": "markdown",
   "metadata": {},
   "source": [
    "### Load dataset"
   ]
  },
  {
   "cell_type": "markdown",
   "metadata": {},
   "source": [
    "News Category Dataset:\n",
    "https://www.kaggle.com/rmisra/news-category-dataset\n",
    "\n",
    "Each json record contains following attributes:\n",
    "\n",
    "* category: Category article belongs to\n",
    "\n",
    "* headline: Headline of the article\n",
    "\n",
    "* authors: Person authored the article\n",
    "\n",
    "* link: Link to the post\n",
    "\n",
    "* short_description: Short description of the article\n",
    "\n",
    "* date: Date the article was published"
   ]
  },
  {
   "cell_type": "code",
   "execution_count": 4,
   "metadata": {
    "scrolled": true
   },
   "outputs": [
    {
     "name": "stdout",
     "output_type": "stream",
     "text": [
      "+--------------------+-------------+----------+--------------------+--------------------+--------------------+\n",
      "|             authors|     category|      date|            headline|                link|   short_description|\n",
      "+--------------------+-------------+----------+--------------------+--------------------+--------------------+\n",
      "|     Melissa Jeltsen|        CRIME|2018-05-26|There Were 2 Mass...|https://www.huffi...|She left her husb...|\n",
      "|       Andy McDonald|ENTERTAINMENT|2018-05-26|Will Smith Joins ...|https://www.huffi...|Of course it has ...|\n",
      "|          Ron Dicker|ENTERTAINMENT|2018-05-26|Hugh Grant Marrie...|https://www.huffi...|The actor and his...|\n",
      "|          Ron Dicker|ENTERTAINMENT|2018-05-26|Jim Carrey Blasts...|https://www.huffi...|The actor gives D...|\n",
      "|          Ron Dicker|ENTERTAINMENT|2018-05-26|Julianna Margulie...|https://www.huffi...|The \"Dietland\" ac...|\n",
      "|          Ron Dicker|ENTERTAINMENT|2018-05-26|Morgan Freeman 'D...|https://www.huffi...|\"It is not right ...|\n",
      "|          Ron Dicker|ENTERTAINMENT|2018-05-26|Donald Trump Is L...|https://www.huffi...|It's catchy, all ...|\n",
      "|     Todd Van Luling|ENTERTAINMENT|2018-05-26|What To Watch On ...|https://www.huffi...|There's a great m...|\n",
      "|       Andy McDonald|ENTERTAINMENT|2018-05-26|Mike Myers Reveal...|https://www.huffi...|Myer's kids may b...|\n",
      "|     Todd Van Luling|ENTERTAINMENT|2018-05-26|What To Watch On ...|https://www.huffi...|You're getting a ...|\n",
      "|   Sebastian Murdock|ENTERTAINMENT|2018-05-26|Justin Timberlake...|https://www.huffi...|The pop star also...|\n",
      "|                    |   WORLD NEWS|2018-05-26|South Korean Pres...|https://www.huffi...|The two met to pa...|\n",
      "|       Karen Pinchin|       IMPACT|2018-05-26|With Its Way Of L...|https://www.huffi...|The revolution is...|\n",
      "|Elise Foley and R...|     POLITICS|2018-05-26|Trump's Crackdown...|https://www.huffi...|Last month a Heal...|\n",
      "|Michael Isikoff, ...|     POLITICS|2018-05-26|'Trump's Son Shou...|https://www.huffi...|The wiretaps feat...|\n",
      "|      Mary Papenfuss|     POLITICS|2018-05-26|Edward Snowden: T...|https://www.huffi...|But don't count o...|\n",
      "|      Mary Papenfuss|     POLITICS|2018-05-26|Booyah: Obama Pho...|https://www.huffi...|Just a peeping mi...|\n",
      "|       Laura Bassett|     POLITICS|2018-05-26|Ireland Votes To ...|https://www.huffi...|Irish women will ...|\n",
      "|      Chris D'Angelo|     POLITICS|2018-05-26|Ryan Zinke Looks ...|https://www.huffi...|The interior secr...|\n",
      "|      Mary Papenfuss|     POLITICS|2018-05-26|Trump's Scottish ...|https://www.huffi...|And there are fou...|\n",
      "+--------------------+-------------+----------+--------------------+--------------------+--------------------+\n",
      "only showing top 20 rows\n",
      "\n"
     ]
    }
   ],
   "source": [
    "news_df = spark.read.json(\"News_Category_Dataset_v2.json\")\n",
    "news_df.show()"
   ]
  },
  {
   "cell_type": "code",
   "execution_count": 36,
   "metadata": {},
   "outputs": [
    {
     "data": {
      "text/plain": [
       "Row(authors='Melissa Jeltsen', category='CRIME', date='2018-05-26', headline='There Were 2 Mass Shootings In Texas Last Week, But Only 1 On TV', link='https://www.huffingtonpost.com/entry/texas-amanda-painter-mass-shooting_us_5b081ab4e4b0802d69caad89', short_description='She left her husband. He killed their children. Just another day in America.')"
      ]
     },
     "execution_count": 36,
     "metadata": {},
     "output_type": "execute_result"
    }
   ],
   "source": [
    "news_df.head()"
   ]
  },
  {
   "cell_type": "markdown",
   "metadata": {},
   "source": [
    "### Examples"
   ]
  },
  {
   "cell_type": "code",
   "execution_count": 5,
   "metadata": {},
   "outputs": [],
   "source": [
    "news_df.createOrReplaceTempView(\"news\")"
   ]
  },
  {
   "cell_type": "code",
   "execution_count": 6,
   "metadata": {},
   "outputs": [
    {
     "name": "stdout",
     "output_type": "stream",
     "text": [
      "+------+\n",
      "| count|\n",
      "+------+\n",
      "|200853|\n",
      "+------+\n",
      "\n"
     ]
    }
   ],
   "source": [
    "spark.sql(\"SELECT COUNT(*) AS count FROM news\").show()"
   ]
  },
  {
   "cell_type": "code",
   "execution_count": 7,
   "metadata": {},
   "outputs": [
    {
     "data": {
      "text/plain": [
       "200853"
      ]
     },
     "execution_count": 7,
     "metadata": {},
     "output_type": "execute_result"
    }
   ],
   "source": [
    "news_df.count()"
   ]
  },
  {
   "cell_type": "code",
   "execution_count": 8,
   "metadata": {
    "scrolled": true
   },
   "outputs": [
    {
     "name": "stdout",
     "output_type": "stream",
     "text": [
      "+--------------+-----+\n",
      "|      category|count|\n",
      "+--------------+-----+\n",
      "|      POLITICS|32739|\n",
      "|      WELLNESS|17827|\n",
      "| ENTERTAINMENT|16058|\n",
      "|        TRAVEL| 9887|\n",
      "|STYLE & BEAUTY| 9649|\n",
      "|     PARENTING| 8677|\n",
      "|HEALTHY LIVING| 6694|\n",
      "|  QUEER VOICES| 6314|\n",
      "|  FOOD & DRINK| 6226|\n",
      "|      BUSINESS| 5937|\n",
      "|        COMEDY| 5175|\n",
      "|        SPORTS| 4884|\n",
      "|  BLACK VOICES| 4528|\n",
      "| HOME & LIVING| 4195|\n",
      "|       PARENTS| 3955|\n",
      "| THE WORLDPOST| 3664|\n",
      "|      WEDDINGS| 3651|\n",
      "|         WOMEN| 3490|\n",
      "|        IMPACT| 3459|\n",
      "|       DIVORCE| 3426|\n",
      "+--------------+-----+\n",
      "only showing top 20 rows\n",
      "\n"
     ]
    }
   ],
   "source": [
    "spark.sql(\"SELECT category, count(category) AS count FROM news GROUP BY category ORDER BY count DESC\").show()"
   ]
  },
  {
   "cell_type": "code",
   "execution_count": 9,
   "metadata": {},
   "outputs": [
    {
     "name": "stdout",
     "output_type": "stream",
     "text": [
      "+--------------+-----+\n",
      "|      category|count|\n",
      "+--------------+-----+\n",
      "|      POLITICS|32739|\n",
      "|      WELLNESS|17827|\n",
      "| ENTERTAINMENT|16058|\n",
      "|        TRAVEL| 9887|\n",
      "|STYLE & BEAUTY| 9649|\n",
      "|     PARENTING| 8677|\n",
      "|HEALTHY LIVING| 6694|\n",
      "|  QUEER VOICES| 6314|\n",
      "|  FOOD & DRINK| 6226|\n",
      "|      BUSINESS| 5937|\n",
      "|        COMEDY| 5175|\n",
      "|        SPORTS| 4884|\n",
      "|  BLACK VOICES| 4528|\n",
      "| HOME & LIVING| 4195|\n",
      "|       PARENTS| 3955|\n",
      "| THE WORLDPOST| 3664|\n",
      "|      WEDDINGS| 3651|\n",
      "|         WOMEN| 3490|\n",
      "|        IMPACT| 3459|\n",
      "|       DIVORCE| 3426|\n",
      "+--------------+-----+\n",
      "only showing top 20 rows\n",
      "\n"
     ]
    }
   ],
   "source": [
    "news_df.groupby('category') \\\n",
    "    .count() \\\n",
    "    .orderBy(fun.desc('count')) \\\n",
    "    .distinct().show()"
   ]
  },
  {
   "cell_type": "markdown",
   "metadata": {},
   "source": [
    "### Task 1. Select the longest headline"
   ]
  },
  {
   "cell_type": "markdown",
   "metadata": {},
   "source": [
    "Hint: Use `length` function and `LIMIT` expression in SQL\n",
    "\n",
    "Available functions: http://spark.apache.org/docs/2.1.0/api/python/pyspark.sql.html#module-pyspark.sql.functions"
   ]
  },
  {
   "cell_type": "code",
   "execution_count": null,
   "metadata": {},
   "outputs": [],
   "source": []
  },
  {
   "cell_type": "markdown",
   "metadata": {},
   "source": [
    "## Spacy NLP library\n",
    "![Spacy Features](img/spacy-features.png)"
   ]
  },
  {
   "cell_type": "markdown",
   "metadata": {},
   "source": [
    "## Spacy pipeline\n",
    "![Spacy Features](img/spacy-pipeline.png)"
   ]
  },
  {
   "cell_type": "markdown",
   "metadata": {},
   "source": [
    "### Examples"
   ]
  },
  {
   "cell_type": "code",
   "execution_count": 10,
   "metadata": {},
   "outputs": [
    {
     "name": "stdout",
     "output_type": "stream",
     "text": [
      "In\n",
      "2018\n",
      "the\n",
      "Debian\n",
      "Linux\n",
      "project\n",
      "received\n",
      "a\n",
      "donation\n",
      "of\n",
      "$\n",
      "300,000\n"
     ]
    }
   ],
   "source": [
    "# import spacy \n",
    "\n",
    "nlp = spacy.load(\"en_core_web_sm\")\n",
    "doc = nlp(\"In 2018 the Debian Linux project received a donation of $300,000\")\n",
    "\n",
    "for token in doc:\n",
    "    print(token.text)"
   ]
  },
  {
   "cell_type": "code",
   "execution_count": 11,
   "metadata": {},
   "outputs": [
    {
     "name": "stdout",
     "output_type": "stream",
     "text": [
      "the Debian Linux project\n",
      "a donation\n"
     ]
    }
   ],
   "source": [
    "for token in doc.noun_chunks:\n",
    "    print(token.text)"
   ]
  },
  {
   "cell_type": "code",
   "execution_count": 12,
   "metadata": {},
   "outputs": [
    {
     "name": "stdout",
     "output_type": "stream",
     "text": [
      "2018\n",
      "300,000\n"
     ]
    }
   ],
   "source": [
    "for token in doc:\n",
    "    if token.like_num:\n",
    "        print(token.text)"
   ]
  },
  {
   "cell_type": "markdown",
   "metadata": {},
   "source": [
    "### Task 2. Extract named entities from the string"
   ]
  },
  {
   "cell_type": "markdown",
   "metadata": {},
   "source": [
    "Hint: Use `ents` attribute of the `Doc` and `label_` attribute of the `Token`\n",
    "\n",
    "Spacy Cheat Sheet: http://datacamp-community-prod.s3.amazonaws.com/29aa28bf-570a-4965-8f54-d6a541ae4e06"
   ]
  },
  {
   "cell_type": "code",
   "execution_count": null,
   "metadata": {},
   "outputs": [],
   "source": []
  },
  {
   "cell_type": "markdown",
   "metadata": {},
   "source": [
    "## Let's combine a power of these two instruments"
   ]
  },
  {
   "cell_type": "markdown",
   "metadata": {},
   "source": [
    "### Task 3. Extract ORG, PERSON, GPE named entities in Spark"
   ]
  },
  {
   "cell_type": "markdown",
   "metadata": {},
   "source": [
    "```\n",
    "# Write a function that takes a news headline and generate the output like that\n",
    "\n",
    "[\n",
    "  {\n",
    "    'label': 'ORG', \n",
    "    'text': 'ACME Inc.'\n",
    "  },\n",
    "  {\n",
    "    'label': 'PERSON', \n",
    "    'text': 'John Doe'   \n",
    "  },\n",
    "  {\n",
    "    'label': GPE,\n",
    "    'text': 'London'\n",
    "  }\n",
    "  ...\n",
    "]\n",
    "```"
   ]
  },
  {
   "cell_type": "code",
   "execution_count": 13,
   "metadata": {},
   "outputs": [],
   "source": [
    "news_df_sample = news_df.sample(withReplacement=False, fraction=0.002, seed=777)\n",
    "news_df_sample.createOrReplaceTempView(\"news_sample\")"
   ]
  },
  {
   "cell_type": "code",
   "execution_count": 14,
   "metadata": {},
   "outputs": [],
   "source": [
    "class SpacyWrapper(object):\n",
    "    \"\"\"Wrapper class to load Spacy on worker nodes\"\"\"\n",
    "    _spacys = {}\n",
    "    disabled_pipeline_steps = ['parser', 'tagger']\n",
    "    default_model = 'en_core_web_sm'\n",
    "\n",
    "    @classmethod\n",
    "    def get(cls, model=default_model, disable=disabled_pipeline_steps):\n",
    "        if model not in cls._spacys:\n",
    "            import spacy\n",
    "            cls._spacys[model] = spacy.load(model, disable=disable)\n",
    "        return cls._spacys[model]"
   ]
  },
  {
   "cell_type": "markdown",
   "metadata": {},
   "source": [
    "### Neamed entity extraction function"
   ]
  },
  {
   "cell_type": "markdown",
   "metadata": {},
   "source": [
    "Hint: Reuse the code from `Task 2`."
   ]
  },
  {
   "cell_type": "code",
   "execution_count": 15,
   "metadata": {},
   "outputs": [],
   "source": [
    "def ner(doc):\n",
    "    labels=['ORG', 'PERSON', 'GPE']\n",
    "    entities = []\n",
    "    \n",
    "    # Load Spacy\n",
    "    nlp = SpacyWrapper.get()\n",
    "    doc = nlp(doc)\n",
    "    \n",
    "    # ======== WRITE YOUR SOLUTION BELOW ======== \n",
    "        \n",
    "    return entities"
   ]
  },
  {
   "cell_type": "code",
   "execution_count": 16,
   "metadata": {},
   "outputs": [
    {
     "data": {
      "text/plain": [
       "<function __main__.ner(doc)>"
      ]
     },
     "execution_count": 16,
     "metadata": {},
     "output_type": "execute_result"
    }
   ],
   "source": [
    "# Schema definition\n",
    "schema = types.ArrayType(\n",
    "    types.StructType([\n",
    "        types.StructField('label', types.StringType(), nullable=False),\n",
    "        types.StructField('text', types.StringType(), nullable=False)\n",
    "    ])\n",
    ")\n",
    "\n",
    "# Register user defined function (UDF) to use in SQL\n",
    "spark.udf.register('ner', ner, schema)"
   ]
  },
  {
   "cell_type": "markdown",
   "metadata": {},
   "source": [
    "### Apply UDF to extract headlines"
   ]
  },
  {
   "cell_type": "code",
   "execution_count": 17,
   "metadata": {},
   "outputs": [],
   "source": [
    "ent_sample = spark.sql(\"SELECT short_description, ner(short_description) AS entities FROM news_sample\")"
   ]
  },
  {
   "cell_type": "code",
   "execution_count": 18,
   "metadata": {},
   "outputs": [
    {
     "data": {
      "text/html": [
       "<div>\n",
       "<style scoped>\n",
       "    .dataframe tbody tr th:only-of-type {\n",
       "        vertical-align: middle;\n",
       "    }\n",
       "\n",
       "    .dataframe tbody tr th {\n",
       "        vertical-align: top;\n",
       "    }\n",
       "\n",
       "    .dataframe thead th {\n",
       "        text-align: right;\n",
       "    }\n",
       "</style>\n",
       "<table border=\"1\" class=\"dataframe\">\n",
       "  <thead>\n",
       "    <tr style=\"text-align: right;\">\n",
       "      <th></th>\n",
       "      <th>short_description</th>\n",
       "      <th>entities</th>\n",
       "    </tr>\n",
       "  </thead>\n",
       "  <tbody>\n",
       "    <tr>\n",
       "      <th>0</th>\n",
       "      <td>The outside groups can spend big to alter election outcomes, but don't have ...</td>\n",
       "      <td>[]</td>\n",
       "    </tr>\n",
       "    <tr>\n",
       "      <th>1</th>\n",
       "      <td>The Islamic State claimed responsibility.</td>\n",
       "      <td>[]</td>\n",
       "    </tr>\n",
       "    <tr>\n",
       "      <th>2</th>\n",
       "      <td>The letter to Congress contradicts the White House's account of the spousal ...</td>\n",
       "      <td>[]</td>\n",
       "    </tr>\n",
       "    <tr>\n",
       "      <th>3</th>\n",
       "      <td>Like self-deportation, but for basic nutritional needs!</td>\n",
       "      <td>[]</td>\n",
       "    </tr>\n",
       "    <tr>\n",
       "      <th>4</th>\n",
       "      <td>Donations skyrocketed as the gun group issued frothy warnings of the \"freedo...</td>\n",
       "      <td>[]</td>\n",
       "    </tr>\n",
       "    <tr>\n",
       "      <th>5</th>\n",
       "      <td>She plays \"one of the universe’s most powerful heroes.\"</td>\n",
       "      <td>[]</td>\n",
       "    </tr>\n",
       "    <tr>\n",
       "      <th>6</th>\n",
       "      <td>The guy makes it too easy sometimes.</td>\n",
       "      <td>[]</td>\n",
       "    </tr>\n",
       "    <tr>\n",
       "      <th>7</th>\n",
       "      <td>Republican lawmakers have insisted that Trump let the special counsel to do ...</td>\n",
       "      <td>[]</td>\n",
       "    </tr>\n",
       "    <tr>\n",
       "      <th>8</th>\n",
       "      <td>How to use bitcoins, Sam Nunberg jokes and more.</td>\n",
       "      <td>[]</td>\n",
       "    </tr>\n",
       "    <tr>\n",
       "      <th>9</th>\n",
       "      <td>Such a funny thing for us to try to explain at the Winter Olympics.</td>\n",
       "      <td>[]</td>\n",
       "    </tr>\n",
       "    <tr>\n",
       "      <th>10</th>\n",
       "      <td>It doesn’t have to be this way. We can choose otherwise.</td>\n",
       "      <td>[]</td>\n",
       "    </tr>\n",
       "    <tr>\n",
       "      <th>11</th>\n",
       "      <td>Whole lotta nope.</td>\n",
       "      <td>[]</td>\n",
       "    </tr>\n",
       "    <tr>\n",
       "      <th>12</th>\n",
       "      <td>Despite the distraction, the memo shows no \"deep state\" plot to elect Hillar...</td>\n",
       "      <td>[]</td>\n",
       "    </tr>\n",
       "    <tr>\n",
       "      <th>13</th>\n",
       "      <td>Mic is letting users reimagine and replace Confederate statues.</td>\n",
       "      <td>[]</td>\n",
       "    </tr>\n",
       "    <tr>\n",
       "      <th>14</th>\n",
       "      <td>#TGIT just got a whole lot better.</td>\n",
       "      <td>[]</td>\n",
       "    </tr>\n",
       "    <tr>\n",
       "      <th>15</th>\n",
       "      <td>She had a few more casting choices for Sam Jones, too.</td>\n",
       "      <td>[]</td>\n",
       "    </tr>\n",
       "    <tr>\n",
       "      <th>16</th>\n",
       "      <td>Costume designer Mark Bridges walks us through key dresses from Paul Thomas ...</td>\n",
       "      <td>[]</td>\n",
       "    </tr>\n",
       "    <tr>\n",
       "      <th>17</th>\n",
       "      <td>They say corporations must make more long-term investments in their workers.</td>\n",
       "      <td>[]</td>\n",
       "    </tr>\n",
       "    <tr>\n",
       "      <th>18</th>\n",
       "      <td>The “Parks and Recreation” star explains what critics are getting wrong.</td>\n",
       "      <td>[]</td>\n",
       "    </tr>\n",
       "    <tr>\n",
       "      <th>19</th>\n",
       "      <td>“We can start 2018 hopeful that elephants will be safer,\" said one environme...</td>\n",
       "      <td>[]</td>\n",
       "    </tr>\n",
       "    <tr>\n",
       "      <th>20</th>\n",
       "      <td>President Pedro Pablo Kuczysnki pardoned the former leader after Fujimori's ...</td>\n",
       "      <td>[]</td>\n",
       "    </tr>\n",
       "    <tr>\n",
       "      <th>21</th>\n",
       "      <td>Yeah, it's as adorable as it sounds.</td>\n",
       "      <td>[]</td>\n",
       "    </tr>\n",
       "    <tr>\n",
       "      <th>22</th>\n",
       "      <td>The two sloth bears are traumatized, but rescuers are hopeful about their fu...</td>\n",
       "      <td>[]</td>\n",
       "    </tr>\n",
       "    <tr>\n",
       "      <th>23</th>\n",
       "      <td>\"Hopefully all will heal well.\"</td>\n",
       "      <td>[]</td>\n",
       "    </tr>\n",
       "    <tr>\n",
       "      <th>24</th>\n",
       "      <td>Set your faces to stun.</td>\n",
       "      <td>[]</td>\n",
       "    </tr>\n",
       "    <tr>\n",
       "      <th>25</th>\n",
       "      <td>20.7 million people need some kind of aid in Yemen. Those dollars could feed...</td>\n",
       "      <td>[]</td>\n",
       "    </tr>\n",
       "    <tr>\n",
       "      <th>26</th>\n",
       "      <td>A pro-Jones super PAC is highlighting Roy Moore's ties to white supremacists.</td>\n",
       "      <td>[]</td>\n",
       "    </tr>\n",
       "    <tr>\n",
       "      <th>27</th>\n",
       "      <td>Conservative legislators are passing a tax bill that will worsen economic di...</td>\n",
       "      <td>[]</td>\n",
       "    </tr>\n",
       "    <tr>\n",
       "      <th>28</th>\n",
       "      <td>\"They plan to increase the right of people to say, 'I am religiously opposed...</td>\n",
       "      <td>[]</td>\n",
       "    </tr>\n",
       "    <tr>\n",
       "      <th>29</th>\n",
       "      <td>Liu Yifei will star as Hua Mulan.</td>\n",
       "      <td>[]</td>\n",
       "    </tr>\n",
       "    <tr>\n",
       "      <th>...</th>\n",
       "      <td>...</td>\n",
       "      <td>...</td>\n",
       "    </tr>\n",
       "    <tr>\n",
       "      <th>385</th>\n",
       "      <td>The focus in hospice is not on cure but on relieving symptoms such as pain, ...</td>\n",
       "      <td>[]</td>\n",
       "    </tr>\n",
       "    <tr>\n",
       "      <th>386</th>\n",
       "      <td>Gruenberg said the FDIC would investigate banks that make payday loans and e...</td>\n",
       "      <td>[]</td>\n",
       "    </tr>\n",
       "    <tr>\n",
       "      <th>387</th>\n",
       "      <td>What is the least flattering type of swimsuit? I know the bikini is so popul...</td>\n",
       "      <td>[]</td>\n",
       "    </tr>\n",
       "    <tr>\n",
       "      <th>388</th>\n",
       "      <td>For more videos, check out the rest of the You Tried It series here. This we...</td>\n",
       "      <td>[]</td>\n",
       "    </tr>\n",
       "    <tr>\n",
       "      <th>389</th>\n",
       "      <td>There's no better story than an encounter with a charging bull elephant. Tha...</td>\n",
       "      <td>[]</td>\n",
       "    </tr>\n",
       "    <tr>\n",
       "      <th>390</th>\n",
       "      <td>When we are mindfully present in the moment, energy seems to flow with a gre...</td>\n",
       "      <td>[]</td>\n",
       "    </tr>\n",
       "    <tr>\n",
       "      <th>391</th>\n",
       "      <td>Many of us mothers with children under the age of 70 living at home are havi...</td>\n",
       "      <td>[]</td>\n",
       "    </tr>\n",
       "    <tr>\n",
       "      <th>392</th>\n",
       "      <td>PHOTOS: Mount Moriah: South Dakota Department of Tourism; Glenwood: Greater ...</td>\n",
       "      <td>[]</td>\n",
       "    </tr>\n",
       "    <tr>\n",
       "      <th>393</th>\n",
       "      <td>My kids love Italian wedding soup. Not just because they are half-italian, b...</td>\n",
       "      <td>[]</td>\n",
       "    </tr>\n",
       "    <tr>\n",
       "      <th>394</th>\n",
       "      <td>I've booked my ceremony and reception location, hired a DJ and finalized the...</td>\n",
       "      <td>[]</td>\n",
       "    </tr>\n",
       "    <tr>\n",
       "      <th>395</th>\n",
       "      <td>While not the most comforting aspect of the exhibition, Andres Serrano's mor...</td>\n",
       "      <td>[]</td>\n",
       "    </tr>\n",
       "    <tr>\n",
       "      <th>396</th>\n",
       "      <td>Ms. Bauer, who has been a longtime champion of successful dieters, points ou...</td>\n",
       "      <td>[]</td>\n",
       "    </tr>\n",
       "    <tr>\n",
       "      <th>397</th>\n",
       "      <td>\"A Look Back\" is a daily column that highlights a moment from fashion's fabu...</td>\n",
       "      <td>[]</td>\n",
       "    </tr>\n",
       "    <tr>\n",
       "      <th>398</th>\n",
       "      <td>Travel tips and insider advice from the well-traveled editor-in-chief of the...</td>\n",
       "      <td>[]</td>\n",
       "    </tr>\n",
       "    <tr>\n",
       "      <th>399</th>\n",
       "      <td>Gisele Bundchen has a new sexy pursuit: she's showing off her very own linge...</td>\n",
       "      <td>[]</td>\n",
       "    </tr>\n",
       "    <tr>\n",
       "      <th>400</th>\n",
       "      <td>Meet Valeria Lukyanova, a 21-year-old Ukrainian model who has made herself u...</td>\n",
       "      <td>[]</td>\n",
       "    </tr>\n",
       "    <tr>\n",
       "      <th>401</th>\n",
       "      <td>The true nature of stress is that it starts within each of us. And since it ...</td>\n",
       "      <td>[]</td>\n",
       "    </tr>\n",
       "    <tr>\n",
       "      <th>402</th>\n",
       "      <td>Want more? Be sure to check out Stylelist on Twitter, Facebook and Pinterest...</td>\n",
       "      <td>[]</td>\n",
       "    </tr>\n",
       "    <tr>\n",
       "      <th>403</th>\n",
       "      <td>Late tax filers will be charged 0.5 percent of unpaid taxes per month, plus ...</td>\n",
       "      <td>[]</td>\n",
       "    </tr>\n",
       "    <tr>\n",
       "      <th>404</th>\n",
       "      <td>While aficionados of the series know that Katniss can carry a tune, Josh Hut...</td>\n",
       "      <td>[]</td>\n",
       "    </tr>\n",
       "    <tr>\n",
       "      <th>405</th>\n",
       "      <td>Invisible Children co-founder Jason Russell, the creator of the viral \"Kony ...</td>\n",
       "      <td>[]</td>\n",
       "    </tr>\n",
       "    <tr>\n",
       "      <th>406</th>\n",
       "      <td>On what's next for ALFA: In two months we'll launch the ALFA Initiative. We'...</td>\n",
       "      <td>[]</td>\n",
       "    </tr>\n",
       "    <tr>\n",
       "      <th>407</th>\n",
       "      <td>Americans are overfed and undernourished. That's right, the most obese child...</td>\n",
       "      <td>[]</td>\n",
       "    </tr>\n",
       "    <tr>\n",
       "      <th>408</th>\n",
       "      <td>Whether you work from home on occasion, once a week or full-time, doing so s...</td>\n",
       "      <td>[]</td>\n",
       "    </tr>\n",
       "    <tr>\n",
       "      <th>409</th>\n",
       "      <td>Today, Hollywood is alive again in the cities and valleys of Western PA and ...</td>\n",
       "      <td>[]</td>\n",
       "    </tr>\n",
       "    <tr>\n",
       "      <th>410</th>\n",
       "      <td>No media room is complete without great lighting. With track lighting that y...</td>\n",
       "      <td>[]</td>\n",
       "    </tr>\n",
       "    <tr>\n",
       "      <th>411</th>\n",
       "      <td>The magnificence of the mountainous backdrop and the modern architecture thr...</td>\n",
       "      <td>[]</td>\n",
       "    </tr>\n",
       "    <tr>\n",
       "      <th>412</th>\n",
       "      <td>As we develop greater strength of character, we're able to face the unknown ...</td>\n",
       "      <td>[]</td>\n",
       "    </tr>\n",
       "    <tr>\n",
       "      <th>413</th>\n",
       "      <td>If you are interested in food and are going to be in London between March 11...</td>\n",
       "      <td>[]</td>\n",
       "    </tr>\n",
       "    <tr>\n",
       "      <th>414</th>\n",
       "      <td>With Grammys on Sunday night, gifting suites were abound in Hollywood and ce...</td>\n",
       "      <td>[]</td>\n",
       "    </tr>\n",
       "  </tbody>\n",
       "</table>\n",
       "<p>415 rows × 2 columns</p>\n",
       "</div>"
      ],
      "text/plain": [
       "                                                                   short_description  \\\n",
       "0    The outside groups can spend big to alter election outcomes, but don't have ...   \n",
       "1                                          The Islamic State claimed responsibility.   \n",
       "2    The letter to Congress contradicts the White House's account of the spousal ...   \n",
       "3                            Like self-deportation, but for basic nutritional needs!   \n",
       "4    Donations skyrocketed as the gun group issued frothy warnings of the \"freedo...   \n",
       "5                            She plays \"one of the universe’s most powerful heroes.\"   \n",
       "6                                               The guy makes it too easy sometimes.   \n",
       "7    Republican lawmakers have insisted that Trump let the special counsel to do ...   \n",
       "8                                   How to use bitcoins, Sam Nunberg jokes and more.   \n",
       "9                Such a funny thing for us to try to explain at the Winter Olympics.   \n",
       "10                          It doesn’t have to be this way. We can choose otherwise.   \n",
       "11                                                                 Whole lotta nope.   \n",
       "12   Despite the distraction, the memo shows no \"deep state\" plot to elect Hillar...   \n",
       "13                   Mic is letting users reimagine and replace Confederate statues.   \n",
       "14                                                #TGIT just got a whole lot better.   \n",
       "15                            She had a few more casting choices for Sam Jones, too.   \n",
       "16   Costume designer Mark Bridges walks us through key dresses from Paul Thomas ...   \n",
       "17      They say corporations must make more long-term investments in their workers.   \n",
       "18          The “Parks and Recreation” star explains what critics are getting wrong.   \n",
       "19   “We can start 2018 hopeful that elephants will be safer,\" said one environme...   \n",
       "20   President Pedro Pablo Kuczysnki pardoned the former leader after Fujimori's ...   \n",
       "21                                              Yeah, it's as adorable as it sounds.   \n",
       "22   The two sloth bears are traumatized, but rescuers are hopeful about their fu...   \n",
       "23                                                   \"Hopefully all will heal well.\"   \n",
       "24                                                           Set your faces to stun.   \n",
       "25   20.7 million people need some kind of aid in Yemen. Those dollars could feed...   \n",
       "26     A pro-Jones super PAC is highlighting Roy Moore's ties to white supremacists.   \n",
       "27   Conservative legislators are passing a tax bill that will worsen economic di...   \n",
       "28   \"They plan to increase the right of people to say, 'I am religiously opposed...   \n",
       "29                                                 Liu Yifei will star as Hua Mulan.   \n",
       "..                                                                               ...   \n",
       "385  The focus in hospice is not on cure but on relieving symptoms such as pain, ...   \n",
       "386  Gruenberg said the FDIC would investigate banks that make payday loans and e...   \n",
       "387  What is the least flattering type of swimsuit? I know the bikini is so popul...   \n",
       "388  For more videos, check out the rest of the You Tried It series here. This we...   \n",
       "389  There's no better story than an encounter with a charging bull elephant. Tha...   \n",
       "390  When we are mindfully present in the moment, energy seems to flow with a gre...   \n",
       "391  Many of us mothers with children under the age of 70 living at home are havi...   \n",
       "392  PHOTOS: Mount Moriah: South Dakota Department of Tourism; Glenwood: Greater ...   \n",
       "393  My kids love Italian wedding soup. Not just because they are half-italian, b...   \n",
       "394  I've booked my ceremony and reception location, hired a DJ and finalized the...   \n",
       "395  While not the most comforting aspect of the exhibition, Andres Serrano's mor...   \n",
       "396  Ms. Bauer, who has been a longtime champion of successful dieters, points ou...   \n",
       "397  \"A Look Back\" is a daily column that highlights a moment from fashion's fabu...   \n",
       "398  Travel tips and insider advice from the well-traveled editor-in-chief of the...   \n",
       "399  Gisele Bundchen has a new sexy pursuit: she's showing off her very own linge...   \n",
       "400  Meet Valeria Lukyanova, a 21-year-old Ukrainian model who has made herself u...   \n",
       "401  The true nature of stress is that it starts within each of us. And since it ...   \n",
       "402  Want more? Be sure to check out Stylelist on Twitter, Facebook and Pinterest...   \n",
       "403  Late tax filers will be charged 0.5 percent of unpaid taxes per month, plus ...   \n",
       "404  While aficionados of the series know that Katniss can carry a tune, Josh Hut...   \n",
       "405  Invisible Children co-founder Jason Russell, the creator of the viral \"Kony ...   \n",
       "406  On what's next for ALFA: In two months we'll launch the ALFA Initiative. We'...   \n",
       "407  Americans are overfed and undernourished. That's right, the most obese child...   \n",
       "408  Whether you work from home on occasion, once a week or full-time, doing so s...   \n",
       "409  Today, Hollywood is alive again in the cities and valleys of Western PA and ...   \n",
       "410  No media room is complete without great lighting. With track lighting that y...   \n",
       "411  The magnificence of the mountainous backdrop and the modern architecture thr...   \n",
       "412  As we develop greater strength of character, we're able to face the unknown ...   \n",
       "413  If you are interested in food and are going to be in London between March 11...   \n",
       "414  With Grammys on Sunday night, gifting suites were abound in Hollywood and ce...   \n",
       "\n",
       "    entities  \n",
       "0         []  \n",
       "1         []  \n",
       "2         []  \n",
       "3         []  \n",
       "4         []  \n",
       "5         []  \n",
       "6         []  \n",
       "7         []  \n",
       "8         []  \n",
       "9         []  \n",
       "10        []  \n",
       "11        []  \n",
       "12        []  \n",
       "13        []  \n",
       "14        []  \n",
       "15        []  \n",
       "16        []  \n",
       "17        []  \n",
       "18        []  \n",
       "19        []  \n",
       "20        []  \n",
       "21        []  \n",
       "22        []  \n",
       "23        []  \n",
       "24        []  \n",
       "25        []  \n",
       "26        []  \n",
       "27        []  \n",
       "28        []  \n",
       "29        []  \n",
       "..       ...  \n",
       "385       []  \n",
       "386       []  \n",
       "387       []  \n",
       "388       []  \n",
       "389       []  \n",
       "390       []  \n",
       "391       []  \n",
       "392       []  \n",
       "393       []  \n",
       "394       []  \n",
       "395       []  \n",
       "396       []  \n",
       "397       []  \n",
       "398       []  \n",
       "399       []  \n",
       "400       []  \n",
       "401       []  \n",
       "402       []  \n",
       "403       []  \n",
       "404       []  \n",
       "405       []  \n",
       "406       []  \n",
       "407       []  \n",
       "408       []  \n",
       "409       []  \n",
       "410       []  \n",
       "411       []  \n",
       "412       []  \n",
       "413       []  \n",
       "414       []  \n",
       "\n",
       "[415 rows x 2 columns]"
      ]
     },
     "execution_count": 18,
     "metadata": {},
     "output_type": "execute_result"
    }
   ],
   "source": [
    "ent_sample.toPandas()"
   ]
  },
  {
   "cell_type": "markdown",
   "metadata": {},
   "source": [
    "## Save output to JSON"
   ]
  },
  {
   "cell_type": "code",
   "execution_count": 23,
   "metadata": {},
   "outputs": [],
   "source": [
    "spark.sql(\"SELECT short_description, ner(short_description) AS entities FROM news_sample\") \\\n",
    "    .repartition(1) \\\n",
    "    .write \\\n",
    "    .json(\"output\")"
   ]
  },
  {
   "cell_type": "markdown",
   "metadata": {},
   "source": [
    "# Text categorization"
   ]
  },
  {
   "cell_type": "code",
   "execution_count": 24,
   "metadata": {},
   "outputs": [],
   "source": [
    "from __future__ import unicode_literals, print_function\n",
    "import plac\n",
    "import random\n",
    "from pathlib import Path\n",
    "import thinc.extra.datasets\n",
    "\n",
    "import spacy\n",
    "from spacy.util import minibatch, compounding"
   ]
  },
  {
   "cell_type": "code",
   "execution_count": 129,
   "metadata": {},
   "outputs": [],
   "source": [
    "output_dir = \"models\"\n",
    "n_texts = 2000\n",
    "n_iter = 20\n",
    "init_tok2vec = None"
   ]
  },
  {
   "cell_type": "code",
   "execution_count": 26,
   "metadata": {},
   "outputs": [],
   "source": [
    "# create blank model\n",
    "nlp = spacy.blank(\"en\")"
   ]
  },
  {
   "cell_type": "code",
   "execution_count": 27,
   "metadata": {},
   "outputs": [],
   "source": [
    "# create text classifier\n",
    "textcat = nlp.create_pipe(\"textcat\", config={\"exclusive_classes\":True, \"architecture\": \"simple_cnn\"})"
   ]
  },
  {
   "cell_type": "code",
   "execution_count": 28,
   "metadata": {},
   "outputs": [],
   "source": [
    "# add text classifier to pipeline\n",
    "nlp.add_pipe(textcat, last=True)"
   ]
  },
  {
   "cell_type": "code",
   "execution_count": 62,
   "metadata": {},
   "outputs": [
    {
     "name": "stdout",
     "output_type": "stream",
     "text": [
      "['SPORTS', 'MEDIA', 'BLACK VOICES', 'POLITICS', 'ARTS', 'THE WORLDPOST', 'QUEER VOICES', 'CULTURE & ARTS', 'PARENTING', 'GREEN', 'ENTERTAINMENT', 'ENVIRONMENT', 'TECH', 'BUSINESS', 'LATINO VOICES', 'COMEDY', 'STYLE & BEAUTY', 'MONEY', 'IMPACT', 'RELIGION', 'TRAVEL', 'EDUCATION', 'HEALTHY LIVING', 'CRIME', 'WEDDINGS', 'TASTE', 'HOME & LIVING', 'FIFTY', 'WEIRD NEWS', 'WORLDPOST', 'GOOD NEWS', 'DIVORCE', 'FOOD & DRINK', 'WOMEN', 'COLLEGE', 'ARTS & CULTURE', 'STYLE', 'PARENTS', 'WORLD NEWS', 'SCIENCE', 'WELLNESS']\n",
      "41\n"
     ]
    }
   ],
   "source": [
    "# get distinct categories\n",
    "categories = [ row.category for row in news_df.select('category').distinct().collect()]\n",
    "print(categories)\n",
    "print(len(categories))"
   ]
  },
  {
   "cell_type": "code",
   "execution_count": 30,
   "metadata": {},
   "outputs": [],
   "source": [
    "for cat in categories:\n",
    "    textcat.add_label(cat)"
   ]
  },
  {
   "cell_type": "code",
   "execution_count": 114,
   "metadata": {},
   "outputs": [],
   "source": [
    "news_data = [ (row.category, row.headline) for row in news_df.collect()]    "
   ]
  },
  {
   "cell_type": "code",
   "execution_count": 115,
   "metadata": {},
   "outputs": [
    {
     "data": {
      "text/plain": [
       "[('CRIME', 'There Were 2 Mass Shootings In Texas Last Week, But Only 1 On TV'),\n",
       " ('ENTERTAINMENT',\n",
       "  \"Will Smith Joins Diplo And Nicky Jam For The 2018 World Cup's Official Song\"),\n",
       " ('ENTERTAINMENT', 'Hugh Grant Marries For The First Time At Age 57'),\n",
       " ('ENTERTAINMENT',\n",
       "  \"Jim Carrey Blasts 'Castrato' Adam Schiff And Democrats In New Artwork\"),\n",
       " ('ENTERTAINMENT',\n",
       "  'Julianna Margulies Uses Donald Trump Poop Bags To Pick Up After Her Dog'),\n",
       " ('ENTERTAINMENT',\n",
       "  \"Morgan Freeman 'Devastated' That Sexual Harassment Claims Could Undermine Legacy\"),\n",
       " ('ENTERTAINMENT',\n",
       "  \"Donald Trump Is Lovin' New McDonald's Jingle In 'Tonight Show' Bit\"),\n",
       " ('ENTERTAINMENT', 'What To Watch On Amazon Prime That’s New This Week'),\n",
       " ('ENTERTAINMENT',\n",
       "  \"Mike Myers Reveals He'd 'Like To' Do A Fourth Austin Powers Film\"),\n",
       " ('ENTERTAINMENT', 'What To Watch On Hulu That’s New This Week')]"
      ]
     },
     "execution_count": 115,
     "metadata": {},
     "output_type": "execute_result"
    }
   ],
   "source": [
    "news_data[:10]"
   ]
  },
  {
   "cell_type": "code",
   "execution_count": 100,
   "metadata": {},
   "outputs": [],
   "source": [
    "def load_data(df, limit=0, split=0.8):\n",
    "    \"\"\"Load data from the News dataset.\"\"\"\n",
    "    # Partition off part of the train data for evaluation\n",
    "    categories = [ row.category for row in news_df.select('category').distinct().collect()]\n",
    "    train_data  = [ (row.category, row.headline) for row in df.collect()]  \n",
    "    random.shuffle(train_data)\n",
    "    train_data = train_data[-limit:]\n",
    "    labels, texts = zip(*train_data)\n",
    "    cats = [{ cat: (lbl==cat) for cat in categories } for lbl in labels]\n",
    "    split = int(len(train_data) * split)\n",
    "    return (texts[:split], cats[:split]), (texts[split:], cats[split:])\n",
    "\n",
    "def evaluate(tokenizer, textcat, texts, cats):\n",
    "    docs = (tokenizer(text) for text in texts)\n",
    "    tp = 0.0  # True positives\n",
    "    fp = 1e-8  # False positives\n",
    "    fn = 1e-8  # False negatives\n",
    "    tn = 0.0  # True negatives\n",
    "    for i, doc in enumerate(textcat.pipe(docs)):\n",
    "        gold = cats[i]\n",
    "        for label, score in doc.cats.items():\n",
    "            if label not in gold:\n",
    "                continue\n",
    "            if label == \"NEGATIVE\":\n",
    "                continue\n",
    "            if score >= 0.5 and gold[label] >= 0.5:\n",
    "                tp += 1.0\n",
    "            elif score >= 0.5 and gold[label] < 0.5:\n",
    "                fp += 1.0\n",
    "            elif score < 0.5 and gold[label] < 0.5:\n",
    "                tn += 1\n",
    "            elif score < 0.5 and gold[label] >= 0.5:\n",
    "                fn += 1\n",
    "    precision = tp / (tp + fp)\n",
    "    recall = tp / (tp + fn)\n",
    "    if (precision + recall) == 0:\n",
    "        f_score = 0.0\n",
    "    else:\n",
    "        f_score = 2 * (precision * recall) / (precision + recall)\n",
    "    return {\"textcat_p\": precision, \"textcat_r\": recall, \"textcat_f\": f_score}\n"
   ]
  },
  {
   "cell_type": "code",
   "execution_count": 101,
   "metadata": {},
   "outputs": [],
   "source": [
    "(train_texts, train_labels), (dev_texts, dev_labels) = load_data(df=news_df)"
   ]
  },
  {
   "cell_type": "code",
   "execution_count": 103,
   "metadata": {
    "scrolled": true
   },
   "outputs": [
    {
     "data": {
      "text/plain": [
       "'Photo Series Exposes The Joy And Heartache Of Raising Kids With Special Needs'"
      ]
     },
     "execution_count": 103,
     "metadata": {},
     "output_type": "execute_result"
    }
   ],
   "source": [
    "dev_texts[0]"
   ]
  },
  {
   "cell_type": "code",
   "execution_count": 116,
   "metadata": {},
   "outputs": [],
   "source": [
    "train_data = list(zip(train_texts, [{\"cats\": cats} for cats in train_labels]))"
   ]
  },
  {
   "cell_type": "code",
   "execution_count": 117,
   "metadata": {},
   "outputs": [
    {
     "data": {
      "text/plain": [
       "[('Friday Talking Points -- Rampant Republican Hypocrisy On Syria',\n",
       "  {'cats': {'SPORTS': False,\n",
       "    'MEDIA': False,\n",
       "    'BLACK VOICES': False,\n",
       "    'POLITICS': True,\n",
       "    'ARTS': False,\n",
       "    'THE WORLDPOST': False,\n",
       "    'QUEER VOICES': False,\n",
       "    'CULTURE & ARTS': False,\n",
       "    'PARENTING': False,\n",
       "    'GREEN': False,\n",
       "    'ENTERTAINMENT': False,\n",
       "    'ENVIRONMENT': False,\n",
       "    'TECH': False,\n",
       "    'BUSINESS': False,\n",
       "    'LATINO VOICES': False,\n",
       "    'COMEDY': False,\n",
       "    'STYLE & BEAUTY': False,\n",
       "    'MONEY': False,\n",
       "    'IMPACT': False,\n",
       "    'RELIGION': False,\n",
       "    'TRAVEL': False,\n",
       "    'EDUCATION': False,\n",
       "    'HEALTHY LIVING': False,\n",
       "    'CRIME': False,\n",
       "    'WEDDINGS': False,\n",
       "    'TASTE': False,\n",
       "    'HOME & LIVING': False,\n",
       "    'FIFTY': False,\n",
       "    'WEIRD NEWS': False,\n",
       "    'WORLDPOST': False,\n",
       "    'GOOD NEWS': False,\n",
       "    'DIVORCE': False,\n",
       "    'FOOD & DRINK': False,\n",
       "    'WOMEN': False,\n",
       "    'COLLEGE': False,\n",
       "    'ARTS & CULTURE': False,\n",
       "    'STYLE': False,\n",
       "    'PARENTS': False,\n",
       "    'WORLD NEWS': False,\n",
       "    'SCIENCE': False,\n",
       "    'WELLNESS': False}}),\n",
       " (\"Tart And Honest, 'The Edge of Seventeen' Is An Increasingly Rare Must-See Teen Movie\",\n",
       "  {'cats': {'SPORTS': False,\n",
       "    'MEDIA': False,\n",
       "    'BLACK VOICES': False,\n",
       "    'POLITICS': False,\n",
       "    'ARTS': False,\n",
       "    'THE WORLDPOST': False,\n",
       "    'QUEER VOICES': False,\n",
       "    'CULTURE & ARTS': False,\n",
       "    'PARENTING': False,\n",
       "    'GREEN': False,\n",
       "    'ENTERTAINMENT': True,\n",
       "    'ENVIRONMENT': False,\n",
       "    'TECH': False,\n",
       "    'BUSINESS': False,\n",
       "    'LATINO VOICES': False,\n",
       "    'COMEDY': False,\n",
       "    'STYLE & BEAUTY': False,\n",
       "    'MONEY': False,\n",
       "    'IMPACT': False,\n",
       "    'RELIGION': False,\n",
       "    'TRAVEL': False,\n",
       "    'EDUCATION': False,\n",
       "    'HEALTHY LIVING': False,\n",
       "    'CRIME': False,\n",
       "    'WEDDINGS': False,\n",
       "    'TASTE': False,\n",
       "    'HOME & LIVING': False,\n",
       "    'FIFTY': False,\n",
       "    'WEIRD NEWS': False,\n",
       "    'WORLDPOST': False,\n",
       "    'GOOD NEWS': False,\n",
       "    'DIVORCE': False,\n",
       "    'FOOD & DRINK': False,\n",
       "    'WOMEN': False,\n",
       "    'COLLEGE': False,\n",
       "    'ARTS & CULTURE': False,\n",
       "    'STYLE': False,\n",
       "    'PARENTS': False,\n",
       "    'WORLD NEWS': False,\n",
       "    'SCIENCE': False,\n",
       "    'WELLNESS': False}}),\n",
       " (\"Twitter Users Mock Donald Trump's Whiny Tweet About Oscar Ratings\",\n",
       "  {'cats': {'SPORTS': False,\n",
       "    'MEDIA': False,\n",
       "    'BLACK VOICES': False,\n",
       "    'POLITICS': True,\n",
       "    'ARTS': False,\n",
       "    'THE WORLDPOST': False,\n",
       "    'QUEER VOICES': False,\n",
       "    'CULTURE & ARTS': False,\n",
       "    'PARENTING': False,\n",
       "    'GREEN': False,\n",
       "    'ENTERTAINMENT': False,\n",
       "    'ENVIRONMENT': False,\n",
       "    'TECH': False,\n",
       "    'BUSINESS': False,\n",
       "    'LATINO VOICES': False,\n",
       "    'COMEDY': False,\n",
       "    'STYLE & BEAUTY': False,\n",
       "    'MONEY': False,\n",
       "    'IMPACT': False,\n",
       "    'RELIGION': False,\n",
       "    'TRAVEL': False,\n",
       "    'EDUCATION': False,\n",
       "    'HEALTHY LIVING': False,\n",
       "    'CRIME': False,\n",
       "    'WEDDINGS': False,\n",
       "    'TASTE': False,\n",
       "    'HOME & LIVING': False,\n",
       "    'FIFTY': False,\n",
       "    'WEIRD NEWS': False,\n",
       "    'WORLDPOST': False,\n",
       "    'GOOD NEWS': False,\n",
       "    'DIVORCE': False,\n",
       "    'FOOD & DRINK': False,\n",
       "    'WOMEN': False,\n",
       "    'COLLEGE': False,\n",
       "    'ARTS & CULTURE': False,\n",
       "    'STYLE': False,\n",
       "    'PARENTS': False,\n",
       "    'WORLD NEWS': False,\n",
       "    'SCIENCE': False,\n",
       "    'WELLNESS': False}}),\n",
       " ('More Evidence That This Emoji Really Is The Greatest Of All',\n",
       "  {'cats': {'SPORTS': False,\n",
       "    'MEDIA': False,\n",
       "    'BLACK VOICES': False,\n",
       "    'POLITICS': False,\n",
       "    'ARTS': False,\n",
       "    'THE WORLDPOST': False,\n",
       "    'QUEER VOICES': False,\n",
       "    'CULTURE & ARTS': False,\n",
       "    'PARENTING': False,\n",
       "    'GREEN': False,\n",
       "    'ENTERTAINMENT': False,\n",
       "    'ENVIRONMENT': False,\n",
       "    'TECH': True,\n",
       "    'BUSINESS': False,\n",
       "    'LATINO VOICES': False,\n",
       "    'COMEDY': False,\n",
       "    'STYLE & BEAUTY': False,\n",
       "    'MONEY': False,\n",
       "    'IMPACT': False,\n",
       "    'RELIGION': False,\n",
       "    'TRAVEL': False,\n",
       "    'EDUCATION': False,\n",
       "    'HEALTHY LIVING': False,\n",
       "    'CRIME': False,\n",
       "    'WEDDINGS': False,\n",
       "    'TASTE': False,\n",
       "    'HOME & LIVING': False,\n",
       "    'FIFTY': False,\n",
       "    'WEIRD NEWS': False,\n",
       "    'WORLDPOST': False,\n",
       "    'GOOD NEWS': False,\n",
       "    'DIVORCE': False,\n",
       "    'FOOD & DRINK': False,\n",
       "    'WOMEN': False,\n",
       "    'COLLEGE': False,\n",
       "    'ARTS & CULTURE': False,\n",
       "    'STYLE': False,\n",
       "    'PARENTS': False,\n",
       "    'WORLD NEWS': False,\n",
       "    'SCIENCE': False,\n",
       "    'WELLNESS': False}}),\n",
       " ('This Is The Best Running Belt For Your Phone',\n",
       "  {'cats': {'SPORTS': False,\n",
       "    'MEDIA': False,\n",
       "    'BLACK VOICES': False,\n",
       "    'POLITICS': False,\n",
       "    'ARTS': False,\n",
       "    'THE WORLDPOST': False,\n",
       "    'QUEER VOICES': False,\n",
       "    'CULTURE & ARTS': False,\n",
       "    'PARENTING': False,\n",
       "    'GREEN': False,\n",
       "    'ENTERTAINMENT': False,\n",
       "    'ENVIRONMENT': False,\n",
       "    'TECH': False,\n",
       "    'BUSINESS': False,\n",
       "    'LATINO VOICES': False,\n",
       "    'COMEDY': False,\n",
       "    'STYLE & BEAUTY': False,\n",
       "    'MONEY': False,\n",
       "    'IMPACT': False,\n",
       "    'RELIGION': False,\n",
       "    'TRAVEL': False,\n",
       "    'EDUCATION': False,\n",
       "    'HEALTHY LIVING': True,\n",
       "    'CRIME': False,\n",
       "    'WEDDINGS': False,\n",
       "    'TASTE': False,\n",
       "    'HOME & LIVING': False,\n",
       "    'FIFTY': False,\n",
       "    'WEIRD NEWS': False,\n",
       "    'WORLDPOST': False,\n",
       "    'GOOD NEWS': False,\n",
       "    'DIVORCE': False,\n",
       "    'FOOD & DRINK': False,\n",
       "    'WOMEN': False,\n",
       "    'COLLEGE': False,\n",
       "    'ARTS & CULTURE': False,\n",
       "    'STYLE': False,\n",
       "    'PARENTS': False,\n",
       "    'WORLD NEWS': False,\n",
       "    'SCIENCE': False,\n",
       "    'WELLNESS': False}}),\n",
       " ('Hawaii Becomes First State To Sue Over New Muslim Travel Ban',\n",
       "  {'cats': {'SPORTS': False,\n",
       "    'MEDIA': False,\n",
       "    'BLACK VOICES': False,\n",
       "    'POLITICS': True,\n",
       "    'ARTS': False,\n",
       "    'THE WORLDPOST': False,\n",
       "    'QUEER VOICES': False,\n",
       "    'CULTURE & ARTS': False,\n",
       "    'PARENTING': False,\n",
       "    'GREEN': False,\n",
       "    'ENTERTAINMENT': False,\n",
       "    'ENVIRONMENT': False,\n",
       "    'TECH': False,\n",
       "    'BUSINESS': False,\n",
       "    'LATINO VOICES': False,\n",
       "    'COMEDY': False,\n",
       "    'STYLE & BEAUTY': False,\n",
       "    'MONEY': False,\n",
       "    'IMPACT': False,\n",
       "    'RELIGION': False,\n",
       "    'TRAVEL': False,\n",
       "    'EDUCATION': False,\n",
       "    'HEALTHY LIVING': False,\n",
       "    'CRIME': False,\n",
       "    'WEDDINGS': False,\n",
       "    'TASTE': False,\n",
       "    'HOME & LIVING': False,\n",
       "    'FIFTY': False,\n",
       "    'WEIRD NEWS': False,\n",
       "    'WORLDPOST': False,\n",
       "    'GOOD NEWS': False,\n",
       "    'DIVORCE': False,\n",
       "    'FOOD & DRINK': False,\n",
       "    'WOMEN': False,\n",
       "    'COLLEGE': False,\n",
       "    'ARTS & CULTURE': False,\n",
       "    'STYLE': False,\n",
       "    'PARENTS': False,\n",
       "    'WORLD NEWS': False,\n",
       "    'SCIENCE': False,\n",
       "    'WELLNESS': False}}),\n",
       " ('Protestant Clergy Rarely Preach About Mental Illness, Survey Finds',\n",
       "  {'cats': {'SPORTS': False,\n",
       "    'MEDIA': False,\n",
       "    'BLACK VOICES': False,\n",
       "    'POLITICS': False,\n",
       "    'ARTS': False,\n",
       "    'THE WORLDPOST': False,\n",
       "    'QUEER VOICES': False,\n",
       "    'CULTURE & ARTS': False,\n",
       "    'PARENTING': False,\n",
       "    'GREEN': False,\n",
       "    'ENTERTAINMENT': False,\n",
       "    'ENVIRONMENT': False,\n",
       "    'TECH': False,\n",
       "    'BUSINESS': False,\n",
       "    'LATINO VOICES': False,\n",
       "    'COMEDY': False,\n",
       "    'STYLE & BEAUTY': False,\n",
       "    'MONEY': False,\n",
       "    'IMPACT': False,\n",
       "    'RELIGION': True,\n",
       "    'TRAVEL': False,\n",
       "    'EDUCATION': False,\n",
       "    'HEALTHY LIVING': False,\n",
       "    'CRIME': False,\n",
       "    'WEDDINGS': False,\n",
       "    'TASTE': False,\n",
       "    'HOME & LIVING': False,\n",
       "    'FIFTY': False,\n",
       "    'WEIRD NEWS': False,\n",
       "    'WORLDPOST': False,\n",
       "    'GOOD NEWS': False,\n",
       "    'DIVORCE': False,\n",
       "    'FOOD & DRINK': False,\n",
       "    'WOMEN': False,\n",
       "    'COLLEGE': False,\n",
       "    'ARTS & CULTURE': False,\n",
       "    'STYLE': False,\n",
       "    'PARENTS': False,\n",
       "    'WORLD NEWS': False,\n",
       "    'SCIENCE': False,\n",
       "    'WELLNESS': False}}),\n",
       " ('Jimmy Fallon Bests Stephen Colbert For The First Time Since Trump Became President',\n",
       "  {'cats': {'SPORTS': False,\n",
       "    'MEDIA': False,\n",
       "    'BLACK VOICES': False,\n",
       "    'POLITICS': False,\n",
       "    'ARTS': False,\n",
       "    'THE WORLDPOST': False,\n",
       "    'QUEER VOICES': False,\n",
       "    'CULTURE & ARTS': False,\n",
       "    'PARENTING': False,\n",
       "    'GREEN': False,\n",
       "    'ENTERTAINMENT': True,\n",
       "    'ENVIRONMENT': False,\n",
       "    'TECH': False,\n",
       "    'BUSINESS': False,\n",
       "    'LATINO VOICES': False,\n",
       "    'COMEDY': False,\n",
       "    'STYLE & BEAUTY': False,\n",
       "    'MONEY': False,\n",
       "    'IMPACT': False,\n",
       "    'RELIGION': False,\n",
       "    'TRAVEL': False,\n",
       "    'EDUCATION': False,\n",
       "    'HEALTHY LIVING': False,\n",
       "    'CRIME': False,\n",
       "    'WEDDINGS': False,\n",
       "    'TASTE': False,\n",
       "    'HOME & LIVING': False,\n",
       "    'FIFTY': False,\n",
       "    'WEIRD NEWS': False,\n",
       "    'WORLDPOST': False,\n",
       "    'GOOD NEWS': False,\n",
       "    'DIVORCE': False,\n",
       "    'FOOD & DRINK': False,\n",
       "    'WOMEN': False,\n",
       "    'COLLEGE': False,\n",
       "    'ARTS & CULTURE': False,\n",
       "    'STYLE': False,\n",
       "    'PARENTS': False,\n",
       "    'WORLD NEWS': False,\n",
       "    'SCIENCE': False,\n",
       "    'WELLNESS': False}}),\n",
       " ('How to Cocktail Video: The Green Beast',\n",
       "  {'cats': {'SPORTS': False,\n",
       "    'MEDIA': False,\n",
       "    'BLACK VOICES': False,\n",
       "    'POLITICS': False,\n",
       "    'ARTS': False,\n",
       "    'THE WORLDPOST': False,\n",
       "    'QUEER VOICES': False,\n",
       "    'CULTURE & ARTS': False,\n",
       "    'PARENTING': False,\n",
       "    'GREEN': False,\n",
       "    'ENTERTAINMENT': False,\n",
       "    'ENVIRONMENT': False,\n",
       "    'TECH': False,\n",
       "    'BUSINESS': False,\n",
       "    'LATINO VOICES': False,\n",
       "    'COMEDY': False,\n",
       "    'STYLE & BEAUTY': False,\n",
       "    'MONEY': False,\n",
       "    'IMPACT': False,\n",
       "    'RELIGION': False,\n",
       "    'TRAVEL': False,\n",
       "    'EDUCATION': False,\n",
       "    'HEALTHY LIVING': False,\n",
       "    'CRIME': False,\n",
       "    'WEDDINGS': False,\n",
       "    'TASTE': False,\n",
       "    'HOME & LIVING': False,\n",
       "    'FIFTY': False,\n",
       "    'WEIRD NEWS': False,\n",
       "    'WORLDPOST': False,\n",
       "    'GOOD NEWS': False,\n",
       "    'DIVORCE': False,\n",
       "    'FOOD & DRINK': True,\n",
       "    'WOMEN': False,\n",
       "    'COLLEGE': False,\n",
       "    'ARTS & CULTURE': False,\n",
       "    'STYLE': False,\n",
       "    'PARENTS': False,\n",
       "    'WORLD NEWS': False,\n",
       "    'SCIENCE': False,\n",
       "    'WELLNESS': False}}),\n",
       " ('Natalie Portman And Benjamin Millepied Welcome Baby No. 2',\n",
       "  {'cats': {'SPORTS': False,\n",
       "    'MEDIA': False,\n",
       "    'BLACK VOICES': False,\n",
       "    'POLITICS': False,\n",
       "    'ARTS': False,\n",
       "    'THE WORLDPOST': False,\n",
       "    'QUEER VOICES': False,\n",
       "    'CULTURE & ARTS': False,\n",
       "    'PARENTING': False,\n",
       "    'GREEN': False,\n",
       "    'ENTERTAINMENT': True,\n",
       "    'ENVIRONMENT': False,\n",
       "    'TECH': False,\n",
       "    'BUSINESS': False,\n",
       "    'LATINO VOICES': False,\n",
       "    'COMEDY': False,\n",
       "    'STYLE & BEAUTY': False,\n",
       "    'MONEY': False,\n",
       "    'IMPACT': False,\n",
       "    'RELIGION': False,\n",
       "    'TRAVEL': False,\n",
       "    'EDUCATION': False,\n",
       "    'HEALTHY LIVING': False,\n",
       "    'CRIME': False,\n",
       "    'WEDDINGS': False,\n",
       "    'TASTE': False,\n",
       "    'HOME & LIVING': False,\n",
       "    'FIFTY': False,\n",
       "    'WEIRD NEWS': False,\n",
       "    'WORLDPOST': False,\n",
       "    'GOOD NEWS': False,\n",
       "    'DIVORCE': False,\n",
       "    'FOOD & DRINK': False,\n",
       "    'WOMEN': False,\n",
       "    'COLLEGE': False,\n",
       "    'ARTS & CULTURE': False,\n",
       "    'STYLE': False,\n",
       "    'PARENTS': False,\n",
       "    'WORLD NEWS': False,\n",
       "    'SCIENCE': False,\n",
       "    'WELLNESS': False}})]"
      ]
     },
     "execution_count": 117,
     "metadata": {},
     "output_type": "execute_result"
    }
   ],
   "source": [
    "train_data[:10]"
   ]
  },
  {
   "cell_type": "code",
   "execution_count": 128,
   "metadata": {
    "scrolled": true
   },
   "outputs": [
    {
     "name": "stdout",
     "output_type": "stream",
     "text": [
      "Training the model...\n",
      "LOSS \t  P  \t  R  \t  F  \n",
      "4200.125\t0.777\t0.373\t0.504\n",
      "3082.331\t0.778\t0.397\t0.525\n",
      "2934.807\t0.771\t0.415\t0.540\n",
      "2836.402\t0.766\t0.426\t0.548\n",
      "2763.113\t0.763\t0.437\t0.556\n",
      "2703.992\t0.761\t0.444\t0.561\n",
      "2652.567\t0.757\t0.449\t0.564\n",
      "2613.604\t0.755\t0.452\t0.565\n",
      "2580.369\t0.752\t0.457\t0.568\n",
      "2546.641\t0.749\t0.461\t0.571\n",
      "2521.982\t0.747\t0.463\t0.571\n",
      "2502.292\t0.745\t0.466\t0.574\n",
      "2482.215\t0.744\t0.467\t0.574\n",
      "2460.835\t0.743\t0.470\t0.576\n",
      "2442.932\t0.742\t0.471\t0.577\n",
      "2427.028\t0.740\t0.473\t0.577\n",
      "2414.652\t0.740\t0.475\t0.579\n",
      "2400.553\t0.739\t0.476\t0.579\n",
      "2393.935\t0.739\t0.478\t0.581\n",
      "2380.902\t0.739\t0.478\t0.580\n",
      "This movie sucked {'SPORTS': 0.0029404545202851295, 'MEDIA': 7.699742855038494e-05, 'BLACK VOICES': 0.015056510455906391, 'POLITICS': 0.004427497275173664, 'ARTS': 4.539787187241018e-05, 'THE WORLDPOST': 0.0006049483199603856, 'QUEER VOICES': 0.0015267971903085709, 'CULTURE & ARTS': 4.539787187241018e-05, 'PARENTING': 0.00018652928702067584, 'GREEN': 0.0005045181605964899, 'ENTERTAINMENT': 0.9168505668640137, 'ENVIRONMENT': 4.539787187241018e-05, 'TECH': 4.539787187241018e-05, 'BUSINESS': 0.0011440243106335402, 'LATINO VOICES': 0.00011287011147942394, 'COMEDY': 0.003475190605968237, 'STYLE & BEAUTY': 0.0001062442097463645, 'MONEY': 4.539787187241018e-05, 'IMPACT': 9.467796917306259e-05, 'RELIGION': 4.539787187241018e-05, 'TRAVEL': 0.0005320654599927366, 'EDUCATION': 4.539787187241018e-05, 'HEALTHY LIVING': 0.0005161755834706128, 'CRIME': 0.00042869593016803265, 'WEDDINGS': 4.539787187241018e-05, 'TASTE': 0.0001238145341631025, 'HOME & LIVING': 4.539787187241018e-05, 'FIFTY': 5.761081774835475e-05, 'WEIRD NEWS': 0.009708032011985779, 'WORLDPOST': 0.00024349530576728284, 'GOOD NEWS': 4.539787187241018e-05, 'DIVORCE': 4.539787187241018e-05, 'FOOD & DRINK': 0.0026031790766865015, 'WOMEN': 0.00022629796876572073, 'COLLEGE': 4.539787187241018e-05, 'ARTS & CULTURE': 4.539787187241018e-05, 'STYLE': 0.0016701269196346402, 'PARENTS': 0.0015913289971649647, 'WORLD NEWS': 4.539787187241018e-05, 'SCIENCE': 0.00012463756138458848, 'WELLNESS': 0.003281140699982643}\n"
     ]
    }
   ],
   "source": [
    "# get names of other pipes to disable them during training\n",
    "other_pipes = [pipe for pipe in nlp.pipe_names if pipe != \"textcat\"]\n",
    "with nlp.disable_pipes(*other_pipes):  # only train textcat\n",
    "    optimizer = nlp.begin_training()\n",
    "    if init_tok2vec is not None:\n",
    "        with init_tok2vec.open(\"rb\") as file_:\n",
    "            textcat.model.tok2vec.from_bytes(file_.read())\n",
    "    print(\"Training the model...\")\n",
    "    print(\"{:^5}\\t{:^5}\\t{:^5}\\t{:^5}\".format(\"LOSS\", \"P\", \"R\", \"F\"))\n",
    "    batch_sizes = compounding(4.0, 32.0, 1.001)\n",
    "    for i in range(n_iter):\n",
    "        losses = {}\n",
    "        # batch up the examples using spaCy's minibatch\n",
    "        random.shuffle(train_data)\n",
    "        batches = minibatch(train_data, size=batch_sizes)\n",
    "        for batch in batches:\n",
    "            texts, annotations = zip(*batch)\n",
    "            nlp.update(texts, annotations, sgd=optimizer, drop=0.2, losses=losses)\n",
    "        with textcat.model.use_params(optimizer.averages):\n",
    "            # evaluate on the dev data split off in load_data()\n",
    "            scores = evaluate(nlp.tokenizer, textcat, dev_texts, dev_labels)\n",
    "        print(\n",
    "            \"{0:.3f}\\t{1:.3f}\\t{2:.3f}\\t{3:.3f}\".format(  # print a simple table\n",
    "                losses[\"textcat\"],\n",
    "                scores[\"textcat_p\"],\n",
    "                scores[\"textcat_r\"],\n",
    "                scores[\"textcat_f\"],\n",
    "            )\n",
    "        )\n",
    "\n",
    "# test the trained model\n",
    "test_text = \"This movie sucked\"\n",
    "doc = nlp(test_text)\n",
    "print(test_text, doc.cats)"
   ]
  },
  {
   "cell_type": "code",
   "execution_count": 131,
   "metadata": {},
   "outputs": [
    {
     "name": "stdout",
     "output_type": "stream",
     "text": [
      "Saved model to models\n",
      "Loading from models\n",
      "This movie sucked {'SPORTS': 0.001859086798503995, 'MEDIA': 0.00012884176976513118, 'BLACK VOICES': 0.012571942992508411, 'POLITICS': 0.0035734246484935284, 'ARTS': 4.539787187241018e-05, 'THE WORLDPOST': 0.0022347450722008944, 'QUEER VOICES': 0.0011917247902601957, 'CULTURE & ARTS': 4.539787187241018e-05, 'PARENTING': 0.0001935432228492573, 'GREEN': 0.00033383368281647563, 'ENTERTAINMENT': 0.8976044058799744, 'ENVIRONMENT': 4.539787187241018e-05, 'TECH': 4.539787187241018e-05, 'BUSINESS': 0.0006732450565323234, 'LATINO VOICES': 0.00014961596752982587, 'COMEDY': 0.002926008542999625, 'STYLE & BEAUTY': 4.539787187241018e-05, 'MONEY': 4.539787187241018e-05, 'IMPACT': 0.00011039463424822316, 'RELIGION': 4.539787187241018e-05, 'TRAVEL': 0.0004975117044523358, 'EDUCATION': 4.539787187241018e-05, 'HEALTHY LIVING': 0.0004041741194669157, 'CRIME': 0.0008256362634710968, 'WEDDINGS': 4.539787187241018e-05, 'TASTE': 0.00010820441821124405, 'HOME & LIVING': 4.539787187241018e-05, 'FIFTY': 7.51630068407394e-05, 'WEIRD NEWS': 0.02132837474346161, 'WORLDPOST': 0.00019946687098126858, 'GOOD NEWS': 4.539787187241018e-05, 'DIVORCE': 4.539787187241018e-05, 'FOOD & DRINK': 0.0015194063307717443, 'WOMEN': 0.00021872953220736235, 'COLLEGE': 4.539787187241018e-05, 'ARTS & CULTURE': 4.539787187241018e-05, 'STYLE': 0.0020494158379733562, 'PARENTS': 0.001599202398210764, 'WORLD NEWS': 5.131360376253724e-05, 'SCIENCE': 7.267794717336074e-05, 'WELLNESS': 0.0017780056223273277}\n"
     ]
    }
   ],
   "source": [
    "with nlp.use_params(optimizer.averages):\n",
    "    nlp.to_disk(output_dir)\n",
    "    print(\"Saved model to\", output_dir)\n",
    "    # test the saved model\n",
    "    print(\"Loading from\", output_dir)\n",
    "    nlp2 = spacy.load(output_dir)\n",
    "    doc2 = nlp2(test_text)\n",
    "    print(test_text, doc2.cats)"
   ]
  },
  {
   "cell_type": "code",
   "execution_count": 134,
   "metadata": {
    "scrolled": true
   },
   "outputs": [
    {
     "data": {
      "text/plain": [
       "[('ENTERTAINMENT', 0.8976044058799744),\n",
       " ('WEIRD NEWS', 0.02132837474346161),\n",
       " ('BLACK VOICES', 0.012571942992508411),\n",
       " ('POLITICS', 0.0035734246484935284),\n",
       " ('COMEDY', 0.002926008542999625),\n",
       " ('THE WORLDPOST', 0.0022347450722008944),\n",
       " ('STYLE', 0.0020494158379733562),\n",
       " ('SPORTS', 0.001859086798503995),\n",
       " ('WELLNESS', 0.0017780056223273277),\n",
       " ('PARENTS', 0.001599202398210764),\n",
       " ('FOOD & DRINK', 0.0015194063307717443),\n",
       " ('QUEER VOICES', 0.0011917247902601957),\n",
       " ('CRIME', 0.0008256362634710968),\n",
       " ('BUSINESS', 0.0006732450565323234),\n",
       " ('TRAVEL', 0.0004975117044523358),\n",
       " ('HEALTHY LIVING', 0.0004041741194669157),\n",
       " ('GREEN', 0.00033383368281647563),\n",
       " ('WOMEN', 0.00021872953220736235),\n",
       " ('WORLDPOST', 0.00019946687098126858),\n",
       " ('PARENTING', 0.0001935432228492573),\n",
       " ('LATINO VOICES', 0.00014961596752982587),\n",
       " ('MEDIA', 0.00012884176976513118),\n",
       " ('IMPACT', 0.00011039463424822316),\n",
       " ('TASTE', 0.00010820441821124405),\n",
       " ('FIFTY', 7.51630068407394e-05),\n",
       " ('SCIENCE', 7.267794717336074e-05),\n",
       " ('WORLD NEWS', 5.131360376253724e-05),\n",
       " ('ARTS', 4.539787187241018e-05),\n",
       " ('CULTURE & ARTS', 4.539787187241018e-05),\n",
       " ('ENVIRONMENT', 4.539787187241018e-05),\n",
       " ('TECH', 4.539787187241018e-05),\n",
       " ('STYLE & BEAUTY', 4.539787187241018e-05),\n",
       " ('MONEY', 4.539787187241018e-05),\n",
       " ('RELIGION', 4.539787187241018e-05),\n",
       " ('EDUCATION', 4.539787187241018e-05),\n",
       " ('WEDDINGS', 4.539787187241018e-05),\n",
       " ('HOME & LIVING', 4.539787187241018e-05),\n",
       " ('GOOD NEWS', 4.539787187241018e-05),\n",
       " ('DIVORCE', 4.539787187241018e-05),\n",
       " ('COLLEGE', 4.539787187241018e-05),\n",
       " ('ARTS & CULTURE', 4.539787187241018e-05)]"
      ]
     },
     "execution_count": 134,
     "metadata": {},
     "output_type": "execute_result"
    }
   ],
   "source": [
    "sorted(doc2.cats.items(), key=lambda kv: kv[1], reverse=True)"
   ]
  },
  {
   "cell_type": "code",
   "execution_count": 161,
   "metadata": {},
   "outputs": [
    {
     "data": {
      "text/plain": [
       "[('PARENTS', 0.8480067253112793),\n",
       " ('PARENTING', 0.6117821931838989),\n",
       " ('QUEER VOICES', 0.00454875361174345),\n",
       " ('WELLNESS', 0.004119208548218012),\n",
       " ('GOOD NEWS', 0.0037084331270307302)]"
      ]
     },
     "execution_count": 161,
     "metadata": {},
     "output_type": "execute_result"
    }
   ],
   "source": [
    "test_text = \"Photo Series Exposes The Joy And Heartache Of Raising Kids With Special Needs\"\n",
    "doc = nlp(test_text)\n",
    "sorted(doc.cats.items(), key=lambda kv: kv[1], reverse=True)[:5]"
   ]
  },
  {
   "cell_type": "code",
   "execution_count": 162,
   "metadata": {},
   "outputs": [
    {
     "data": {
      "text/plain": [
       "[('WORLDPOST', 0.8023033738136292),\n",
       " ('POLITICS', 0.15048882365226746),\n",
       " ('WORLD NEWS', 0.02114487811923027),\n",
       " ('IMPACT', 0.011980917304754257),\n",
       " ('FOOD & DRINK', 0.010317415930330753)]"
      ]
     },
     "execution_count": 162,
     "metadata": {},
     "output_type": "execute_result"
    }
   ],
   "source": [
    "test_text = \"Anti-Semitism threatens fragile Jewish life in Romania\"\n",
    "doc = nlp(test_text)\n",
    "sorted(doc.cats.items(), key=lambda kv: kv[1], reverse=True)[:5]"
   ]
  },
  {
   "cell_type": "code",
   "execution_count": 163,
   "metadata": {},
   "outputs": [
    {
     "data": {
      "text/plain": [
       "[('SPORTS', 0.9766820669174194),\n",
       " ('POLITICS', 0.1045171245932579),\n",
       " ('ENTERTAINMENT', 0.02232290804386139),\n",
       " ('QUEER VOICES', 0.0053286077454686165),\n",
       " ('GREEN', 0.004776482470333576)]"
      ]
     },
     "execution_count": 163,
     "metadata": {},
     "output_type": "execute_result"
    }
   ],
   "source": [
    "test_text = \"Masters: Tiger Woods' first major - from mixing with stars to Monday history class\"\n",
    "doc = nlp(test_text)\n",
    "sorted(doc.cats.items(), key=lambda kv: kv[1], reverse=True)[:5]"
   ]
  }
 ],
 "metadata": {
  "kernelspec": {
   "display_name": "Python 3",
   "language": "python",
   "name": "python3"
  },
  "language_info": {
   "codemirror_mode": {
    "name": "ipython",
    "version": 3
   },
   "file_extension": ".py",
   "mimetype": "text/x-python",
   "name": "python",
   "nbconvert_exporter": "python",
   "pygments_lexer": "ipython3",
   "version": "3.7.3"
  }
 },
 "nbformat": 4,
 "nbformat_minor": 2
}
